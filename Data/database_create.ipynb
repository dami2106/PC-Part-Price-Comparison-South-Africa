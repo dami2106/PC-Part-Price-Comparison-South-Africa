{
 "cells": [
  {
   "cell_type": "code",
   "execution_count": 1,
   "metadata": {},
   "outputs": [],
   "source": [
    "import sqlite3\n",
    "import csv\n",
    "import os\n",
    "# Connect to the SQLite database \n",
    "conn = sqlite3.connect('pc_stores.db')\n",
    "cur = conn.cursor()"
   ]
  },
  {
   "cell_type": "code",
   "execution_count": 2,
   "metadata": {},
   "outputs": [
    {
     "data": {
      "text/plain": [
       "['0_dreamware.csv',\n",
       " '1_evetech.csv',\n",
       " '2_rebeltech.csv',\n",
       " '3_takealot.csv',\n",
       " '4_wootware.csv',\n",
       " '5_progenix.csv']"
      ]
     },
     "execution_count": 2,
     "metadata": {},
     "output_type": "execute_result"
    }
   ],
   "source": [
    "data_location = '../Data/Processed/'\n",
    "data_sources = os.listdir(data_location)\n",
    "data_sources.sort()\n",
    "data_sources"
   ]
  },
  {
   "cell_type": "code",
   "execution_count": 6,
   "metadata": {},
   "outputs": [],
   "source": [
    "# Create the list of the file names and the tables names\n",
    "data_list = [\n",
    "    [data_sources[0], 'dreamwaretech'],\n",
    "    [data_sources[1], 'evetech'],\n",
    "    [data_sources[2], 'rebeltech'],\n",
    "    [data_sources[3], 'takealot'],\n",
    "    [data_sources[4], 'wootware'],\n",
    "    [data_sources[5], 'progenix'],\n",
    "]\n",
    "\n",
    "for i in data_list:\n",
    "    # Create the table if it doesn't exist\n",
    "    cur.execute(f'''CREATE TABLE IF NOT EXISTS {i[1]} (\n",
    "                    Title TEXT,\n",
    "                    Price REAL,\n",
    "                    In_Stock BOOLEAN,\n",
    "                    Category TEXT,\n",
    "                    URL TEXT\n",
    "                )''')\n",
    "\n",
    "    # Read data from the CSV file and insert into the database\n",
    "    with open(data_location+i[0], newline='', encoding='utf-8') as csvfile:\n",
    "        csvreader = csv.reader(csvfile)\n",
    "        # Skip the header row\n",
    "        next(csvreader)\n",
    "        for row in csvreader:\n",
    "            # Insert each row into the database\n",
    "            cur.execute(f\"INSERT INTO {i[1]} (Title, Price, In_Stock, Category, URL) VALUES (?, ?, ?, ?, ?)\", row)\n",
    "\n",
    "\n",
    "# Commit changes and close the connection\n",
    "conn.commit()\n",
    "conn.close()"
   ]
  }
 ],
 "metadata": {
  "kernelspec": {
   "display_name": "Scrapper",
   "language": "python",
   "name": "python3"
  },
  "language_info": {
   "codemirror_mode": {
    "name": "ipython",
    "version": 3
   },
   "file_extension": ".py",
   "mimetype": "text/x-python",
   "name": "python",
   "nbconvert_exporter": "python",
   "pygments_lexer": "ipython3",
   "version": "3.10.13"
  }
 },
 "nbformat": 4,
 "nbformat_minor": 2
}
