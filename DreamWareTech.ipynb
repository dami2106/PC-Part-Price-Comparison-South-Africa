{
 "cells": [
  {
   "cell_type": "code",
   "execution_count": 27,
   "metadata": {},
   "outputs": [],
   "source": [
    "from bs4 import BeautifulSoup\n",
    "import requests\n",
    "import pandas as pd\n",
    "import warnings\n",
    "\n",
    "pd.options.mode.chained_assignment = None\n",
    "warnings.simplefilter(action='ignore', category=FutureWarning)"
   ]
  },
  {
   "cell_type": "code",
   "execution_count": 28,
   "metadata": {},
   "outputs": [],
   "source": [
    "url_to_scrape = [\n",
    "    'https://www.dreamwaretech.co.za/c/computer-components/graphics-cards-gpus/nvidia-graphics-cards/',\n",
    "    'https://www.dreamwaretech.co.za/c/computer-components/graphics-cards-gpus/workstation-cards/',\n",
    "    'https://www.dreamwaretech.co.za/c/computer-components/graphics-cards-gpus/amd-graphics-cards/'\n",
    "]\n",
    "\n",
    "df = pd.DataFrame(columns=[\"Title\", \"Price\", \"In Stock\", \"Category\"])"
   ]
  },
  {
   "cell_type": "code",
   "execution_count": 29,
   "metadata": {},
   "outputs": [
    {
     "name": "stdout",
     "output_type": "stream",
     "text": [
      "https://www.dreamwaretech.co.za/c/computer-components/graphics-cards-gpus/nvidia-graphics-cards/\n",
      "https://www.dreamwaretech.co.za/c/computer-components/graphics-cards-gpus/workstation-cards/\n",
      "https://www.dreamwaretech.co.za/c/computer-components/graphics-cards-gpus/amd-graphics-cards/\n"
     ]
    },
    {
     "data": {
      "text/plain": [
       "(143, 4)"
      ]
     },
     "execution_count": 29,
     "metadata": {},
     "output_type": "execute_result"
    }
   ],
   "source": [
    "for base_url in url_to_scrape:\n",
    "    print(base_url)\n",
    "\n",
    "    paging = True\n",
    "    url = base_url + \"\"\n",
    "    while paging:\n",
    "        html_content = requests.get(url, headers={\"User-Agent\": \"Mozilla/5.0\"})\n",
    "        soup = BeautifulSoup(html_content.text)\n",
    "        divs = soup.find_all(\"div\", class_= \"product card\")\n",
    "\n",
    "        for product in divs:\n",
    "            price = float(product.find(\"p\", class_=\"product-price\").text.split(' ')[1].replace('R', ''))\n",
    "            title = product.find(\"p\", class_=\"product-box-name\").find(\"a\").get(\"href\").split(\"/\")[-2].replace(\"-\", \" \")\n",
    "            in_stock = True if \"with supplier\" in product.find(\"p\", class_=\"prod-availability\").text.lower() else False\n",
    "        \n",
    "            df = pd.concat([df, pd.DataFrame({\"Title\": title, \"Price\": price, \"In Stock\": in_stock, \"Category\": \"Graphics Cards\"}, index=[0])], ignore_index=True)\n",
    "        \n",
    "        if soup.find(\"p\", id=\"next-nav\"):\n",
    "            paging = True if soup.find(\"p\", id=\"next-nav\").text in \"Last\" else False\n",
    "            next_page_url = soup.find(\"a\", id=\"a-next-nav\").get(\"href\")\n",
    "\n",
    "            if next_page_url:\n",
    "                url = base_url + next_page_url\n",
    "            else:\n",
    "                paging = False\n",
    "        else:\n",
    "            paging = False\n",
    "\n",
    "\n",
    "df.shape"
   ]
  },
  {
   "cell_type": "code",
   "execution_count": 30,
   "metadata": {},
   "outputs": [],
   "source": [
    "df.to_csv(\"DreamWareTech.csv\", index=False)"
   ]
  },
  {
   "cell_type": "code",
   "execution_count": 47,
   "metadata": {},
   "outputs": [
    {
     "data": {
      "text/plain": [
       "4     6\n",
       "15    6\n",
       "0     5\n",
       "13    5\n",
       "17    5\n",
       "16    5\n",
       "14    5\n",
       "28    5\n",
       "2     5\n",
       "75    4\n",
       "Name: Title, dtype: int64"
      ]
     },
     "execution_count": 47,
     "metadata": {},
     "output_type": "execute_result"
    }
   ],
   "source": [
    "def word_similarity(str1, str2):\n",
    "    str1 = str1.lower().split(\" \")\n",
    "    str2 = str2.lower().split(\" \")\n",
    "    count = 0 \n",
    "    for word in str1:\n",
    "        if word in str2:\n",
    "            count += 1\n",
    "    return count \n",
    "\n",
    "    \n",
    "    \n",
    "\n",
    "#Compute the jaccaard similarity between the test card and all the cards in the dataset\n",
    "df[\"Title\"].apply(lambda x: word_similarity(x, \"gigabyte geforce rtx 4060 ti aero\")).sort_values(ascending=False).head(10)\n",
    "\n"
   ]
  },
  {
   "cell_type": "code",
   "execution_count": 48,
   "metadata": {},
   "outputs": [
    {
     "data": {
      "text/plain": [
       "Title       gigabyte geforce rtx 4060 ti aero oc 16gb gddr...\n",
       "Price                                                 13169.0\n",
       "In Stock                                                 True\n",
       "Category                                       Graphics Cards\n",
       "Name: 4, dtype: object"
      ]
     },
     "execution_count": 48,
     "metadata": {},
     "output_type": "execute_result"
    }
   ],
   "source": [
    "#Print the row at 62\n",
    "df.iloc[4]"
   ]
  },
  {
   "cell_type": "code",
   "execution_count": 36,
   "metadata": {},
   "outputs": [
    {
     "data": {
      "text/plain": [
       "2"
      ]
     },
     "execution_count": 36,
     "metadata": {},
     "output_type": "execute_result"
    }
   ],
   "source": []
  }
 ],
 "metadata": {
  "kernelspec": {
   "display_name": "uni",
   "language": "python",
   "name": "python3"
  },
  "language_info": {
   "codemirror_mode": {
    "name": "ipython",
    "version": 3
   },
   "file_extension": ".py",
   "mimetype": "text/x-python",
   "name": "python",
   "nbconvert_exporter": "python",
   "pygments_lexer": "ipython3",
   "version": "3.11.4"
  }
 },
 "nbformat": 4,
 "nbformat_minor": 2
}
