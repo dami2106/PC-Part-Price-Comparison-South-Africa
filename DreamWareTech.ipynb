{
 "cells": [
  {
   "cell_type": "code",
   "execution_count": 27,
   "metadata": {},
   "outputs": [],
   "source": [
    "from bs4 import BeautifulSoup\n",
    "import requests\n",
    "import pandas as pd\n",
    "import warnings\n",
    "\n",
    "pd.options.mode.chained_assignment = None\n",
    "warnings.simplefilter(action='ignore', category=FutureWarning)"
   ]
  },
  {
   "cell_type": "code",
   "execution_count": 28,
   "metadata": {},
   "outputs": [],
   "source": [
    "url_to_scrape = [\n",
    "    'https://www.dreamwaretech.co.za/c/computer-components/graphics-cards-gpus/nvidia-graphics-cards/',\n",
    "    'https://www.dreamwaretech.co.za/c/computer-components/graphics-cards-gpus/workstation-cards/',\n",
    "    'https://www.dreamwaretech.co.za/c/computer-components/graphics-cards-gpus/amd-graphics-cards/'\n",
    "]\n",
    "\n",
    "df = pd.DataFrame(columns=[\"Title\", \"Price\", \"In Stock\", \"Category\"])"
   ]
  },
  {
   "cell_type": "code",
   "execution_count": 29,
   "metadata": {},
   "outputs": [
    {
     "name": "stdout",
     "output_type": "stream",
     "text": [
      "https://www.dreamwaretech.co.za/c/computer-components/graphics-cards-gpus/nvidia-graphics-cards/\n",
      "https://www.dreamwaretech.co.za/c/computer-components/graphics-cards-gpus/workstation-cards/\n",
      "https://www.dreamwaretech.co.za/c/computer-components/graphics-cards-gpus/amd-graphics-cards/\n"
     ]
    },
    {
     "data": {
      "text/plain": [
       "(143, 4)"
      ]
     },
     "execution_count": 29,
     "metadata": {},
     "output_type": "execute_result"
    }
   ],
   "source": [
    "for base_url in url_to_scrape:\n",
    "    print(base_url)\n",
    "\n",
    "    paging = True\n",
    "    url = base_url + \"\"\n",
    "    while paging:\n",
    "        html_content = requests.get(url, headers={\"User-Agent\": \"Mozilla/5.0\"})\n",
    "        soup = BeautifulSoup(html_content.text)\n",
    "        divs = soup.find_all(\"div\", class_= \"product card\")\n",
    "\n",
    "        for product in divs:\n",
    "            price = float(product.find(\"p\", class_=\"product-price\").text.split(' ')[1].replace('R', ''))\n",
    "            title = product.find(\"p\", class_=\"product-box-name\").find(\"a\").get(\"href\").split(\"/\")[-2].replace(\"-\", \" \")\n",
    "            in_stock = True if \"with supplier\" in product.find(\"p\", class_=\"prod-availability\").text.lower() else False\n",
    "        \n",
    "            df = pd.concat([df, pd.DataFrame({\"Title\": title, \"Price\": price, \"In Stock\": in_stock, \"Category\": \"Graphics Cards\"}, index=[0])], ignore_index=True)\n",
    "        \n",
    "        if soup.find(\"p\", id=\"next-nav\"):\n",
    "            paging = True if soup.find(\"p\", id=\"next-nav\").text in \"Last\" else False\n",
    "            next_page_url = soup.find(\"a\", id=\"a-next-nav\").get(\"href\")\n",
    "\n",
    "            if next_page_url:\n",
    "                url = base_url + next_page_url\n",
    "            else:\n",
    "                paging = False\n",
    "        else:\n",
    "            paging = False\n",
    "\n",
    "\n",
    "df.shape"
   ]
  },
  {
   "cell_type": "code",
   "execution_count": null,
   "metadata": {},
   "outputs": [],
   "source": [
    "df.to_csv(\"DreamWareTech.csv\", index=False)"
   ]
  }
 ],
 "metadata": {
  "kernelspec": {
   "display_name": "uni",
   "language": "python",
   "name": "python3"
  },
  "language_info": {
   "codemirror_mode": {
    "name": "ipython",
    "version": 3
   },
   "file_extension": ".py",
   "mimetype": "text/x-python",
   "name": "python",
   "nbconvert_exporter": "python",
   "pygments_lexer": "ipython3",
   "version": "3.11.4"
  }
 },
 "nbformat": 4,
 "nbformat_minor": 2
}
