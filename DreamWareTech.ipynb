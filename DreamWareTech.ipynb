{
 "cells": [
  {
   "cell_type": "code",
   "execution_count": 22,
   "metadata": {},
   "outputs": [],
   "source": [
    "from bs4 import BeautifulSoup\n",
    "import requests\n",
    "import pandas as pd\n",
    "import warnings\n",
    "import time \n",
    "\n",
    "pd.options.mode.chained_assignment = None\n",
    "warnings.simplefilter(action='ignore', category=FutureWarning)"
   ]
  },
  {
   "cell_type": "code",
   "execution_count": 27,
   "metadata": {},
   "outputs": [
    {
     "name": "stdout",
     "output_type": "stream",
     "text": [
      "[['https://www.dreamwaretech.co.za/c/computer-components/processors-cpus/intel-processors/', 'Processors (CPUs)'], ['https://www.dreamwaretech.co.za/c/computer-components/processors-cpus/amd-processors/', 'Processors (CPUs)'], ['https://www.dreamwaretech.co.za/c/computer-components/graphics-cards-gpus/nvidia-graphics-cards/', 'Graphics Cards (GPUs)'], ['https://www.dreamwaretech.co.za/c/computer-components/graphics-cards-gpus/amd-graphics-cards/', 'Graphics Cards (GPUs)'], ['https://www.dreamwaretech.co.za/c/computer-components/graphics-cards-gpus/workstation-cards/', 'Graphics Cards (GPUs)'], ['https://www.dreamwaretech.co.za/c/computer-components/graphics-cards-gpus/gpu-sli-bridges/', 'Graphics Cards (GPUs)'], ['https://www.dreamwaretech.co.za/c/computer-components/storage/external-solid-state-drives/', 'Storage'], ['https://www.dreamwaretech.co.za/c/computer-components/solid-state-drives-ssd/', 'Storage'], ['https://www.dreamwaretech.co.za/c/computer-components/storage/3-5-internal-hard-disk-drives-hdd/', 'Storage'], ['https://www.dreamwaretech.co.za/c/computer-components/storage/microsd-cards/', 'Storage'], ['https://www.dreamwaretech.co.za/c/computer-components/storage/flash-drives/', 'Storage'], ['https://www.dreamwaretech.co.za/c/computer-components/storage/hdd-enclosures/', 'Storage'], ['https://www.dreamwaretech.co.za/c/computer-components/storage/2-5-hard-disk-drives/', 'Storage'], ['https://www.dreamwaretech.co.za/c/computer-components/storage/2-5-external-hard-drives/', 'Storage'], ['https://www.dreamwaretech.co.za/c/computer-components/storage/3-5-external-hard-disk-drives-hdd/', 'Storage'], ['https://www.dreamwaretech.co.za/c/computer-components/motherboards/intel-motherboards/', 'Motherboards'], ['https://www.dreamwaretech.co.za/c/computer-components/motherboards/amd-motherboards/', 'Motherboards'], ['https://www.dreamwaretech.co.za/c/computer-components/memory-ram/ddr5-desktop-memory/', 'Memory (RAM)'], ['https://www.dreamwaretech.co.za/c/computer-components/memory-ram/apple-mac-memory/', 'Memory (RAM)'], ['https://www.dreamwaretech.co.za/c/computer-components/memory-ram/ddr3-desktop-pc-memory/', 'Memory (RAM)'], ['https://www.dreamwaretech.co.za/c/computer-components/memory-ram/ddr4-desktop-pc-memory/', 'Memory (RAM)'], ['https://www.dreamwaretech.co.za/c/computer-components/power-supplies-psus/', 'Power Supplies (PSUs)'], ['https://www.dreamwaretech.co.za/c/computer-components/pc-cases-chassis/', 'PC Cases/Chassis'], ['https://www.dreamwaretech.co.za/c/computer-components/pc-case-lighting-accessories/', 'PC Case Lighting & Accessories'], ['https://www.dreamwaretech.co.za/c/computer-components/computer-cooling/custom-liquid-cooling/', 'Computer Cooling'], ['https://www.dreamwaretech.co.za/c/computer-components/computer-cooling/pc-case-fans/', 'Computer Cooling'], ['https://www.dreamwaretech.co.za/c/computer-components/computer-cooling/thermal-paste/', 'Computer Cooling'], ['https://www.dreamwaretech.co.za/c/computer-components/computer-cooling/cpu-coolers/', 'Computer Cooling'], ['https://www.dreamwaretech.co.za/c/computer-components/optical-disk-drives-odd/internal-odd-s/', 'Optical Disk Drives (ODD)'], ['https://www.dreamwaretech.co.za/c/computer-components/optical-disk-drives-odd/external-odd-s/', 'Optical Disk Drives (ODD)'], ['https://www.dreamwaretech.co.za/c/computer-components/optical-disk-drives-odd/bluray-odd-s/', 'Optical Disk Drives (ODD)'], ['https://www.dreamwaretech.co.za/c/computer-components/add-on-cards/', 'Add-On Cards']]\n"
     ]
    }
   ],
   "source": [
    "# Get the content of the home page\n",
    "home_url = 'https://www.dreamwaretech.co.za/c/computer-components/'\n",
    "home_content = requests.get(home_url, headers={\"User-Agent\": \"Mozilla/5.0 (Windows NT 10.0; Win64; x64) AppleWebKit/537.36 (KHTML, like Gecko) Chrome/91.0.4472.124 Safari/537.36\"})\n",
    "home_soup = BeautifulSoup(home_content.content, 'html.parser')\n",
    "\n",
    "# Get all the categories\n",
    "categories = home_soup.findAll('div', class_='col-md-6 col-lg-4')\n",
    "\n",
    "# Store all links that we need to scrape\n",
    "links = []\n",
    "\n",
    "# Skip the first link \n",
    "for cate in categories[1:]:\n",
    "    link = cate.find('a', href=True)\n",
    "    new_links = 'https://www.dreamwaretech.co.za'+link['href']\n",
    "    categories_name = cate.find('div', class_='category-text').text.strip()\n",
    "\n",
    "    # Get the new page content and categories\n",
    "    new_content = requests.get(new_links, headers={\"User-Agent\": \"Mozilla/5.0\"})\n",
    "    new_soup = BeautifulSoup(new_content.content, 'html.parser')\n",
    "    new_categories = new_soup.findAll('div', class_='col-md-6 col-lg-4')\n",
    "    \n",
    "    # If there are sub-categories, get the links of the sub-categories otherwise get the link of the current page\n",
    "    if len(new_categories) != 0:\n",
    "        final_links = []\n",
    "        for new_cate in new_categories:\n",
    "            final_new_link = new_cate.find('a', href=True)\n",
    "            links.append(['https://www.dreamwaretech.co.za'+final_new_link['href'], categories_name])\n",
    "    else:\n",
    "        links.append([new_links, categories_name])\n",
    "    \n",
    "    time.sleep(1)\n",
    "\n",
    "print(links)"
   ]
  },
  {
   "cell_type": "code",
   "execution_count": 29,
   "metadata": {},
   "outputs": [
    {
     "name": "stdout",
     "output_type": "stream",
     "text": [
      "32\n"
     ]
    }
   ],
   "source": [
    "print(len(links))"
   ]
  },
  {
   "cell_type": "code",
   "execution_count": 36,
   "metadata": {},
   "outputs": [
    {
     "name": "stdout",
     "output_type": "stream",
     "text": [
      "Scraping :https://www.dreamwaretech.co.za/c/computer-components/processors-cpus/intel-processors/\n",
      "Scraping :https://www.dreamwaretech.co.za/c/computer-components/processors-cpus/intel-processors/?page=2&min=1&max=23900&filters=\n",
      "Scraping :https://www.dreamwaretech.co.za/c/computer-components/processors-cpus/intel-processors/?page=3&min=1&max=23900&filters=\n",
      "Scraping :https://www.dreamwaretech.co.za/c/computer-components/processors-cpus/intel-processors/?page=4&min=1&max=23900&filters=\n",
      "Scraping :https://www.dreamwaretech.co.za/c/computer-components/processors-cpus/intel-processors/?page=5&min=1&max=23900&filters=\n",
      "Scraping :https://www.dreamwaretech.co.za/c/computer-components/processors-cpus/amd-processors/\n",
      "Scraping :https://www.dreamwaretech.co.za/c/computer-components/processors-cpus/amd-processors/?page=2&min=1&max=38300&filters=\n",
      "Scraping :https://www.dreamwaretech.co.za/c/computer-components/graphics-cards-gpus/nvidia-graphics-cards/\n",
      "Scraping :https://www.dreamwaretech.co.za/c/computer-components/graphics-cards-gpus/nvidia-graphics-cards/?page=2&min=1&max=49600&filters=\n",
      "Scraping :https://www.dreamwaretech.co.za/c/computer-components/graphics-cards-gpus/nvidia-graphics-cards/?page=3&min=1&max=49600&filters=\n",
      "Scraping :https://www.dreamwaretech.co.za/c/computer-components/graphics-cards-gpus/nvidia-graphics-cards/?page=4&min=1&max=49600&filters=\n",
      "Scraping :https://www.dreamwaretech.co.za/c/computer-components/graphics-cards-gpus/nvidia-graphics-cards/?page=5&min=1&max=49600&filters=\n",
      "Scraping :https://www.dreamwaretech.co.za/c/computer-components/graphics-cards-gpus/nvidia-graphics-cards/?page=6&min=1&max=49600&filters=\n",
      "Scraping :https://www.dreamwaretech.co.za/c/computer-components/graphics-cards-gpus/amd-graphics-cards/\n",
      "Scraping :https://www.dreamwaretech.co.za/c/computer-components/graphics-cards-gpus/amd-graphics-cards/?page=2&min=1&max=34300&filters=\n",
      "Scraping :https://www.dreamwaretech.co.za/c/computer-components/graphics-cards-gpus/workstation-cards/\n",
      "Scraping :https://www.dreamwaretech.co.za/c/computer-components/graphics-cards-gpus/gpu-sli-bridges/\n",
      "Scraping :https://www.dreamwaretech.co.za/c/computer-components/storage/external-solid-state-drives/\n",
      "Scraping :https://www.dreamwaretech.co.za/c/computer-components/storage/external-solid-state-drives/?page=2&min=1&max=7400&filters=\n",
      "Scraping :https://www.dreamwaretech.co.za/c/computer-components/solid-state-drives-ssd/\n",
      "Scraping :https://www.dreamwaretech.co.za/c/computer-components/storage/3-5-internal-hard-disk-drives-hdd/\n",
      "Scraping :https://www.dreamwaretech.co.za/c/computer-components/storage/3-5-internal-hard-disk-drives-hdd/?page=2&min=1&max=12500&filters=\n",
      "Scraping :https://www.dreamwaretech.co.za/c/computer-components/storage/microsd-cards/\n",
      "Scraping :https://www.dreamwaretech.co.za/c/computer-components/storage/microsd-cards/?page=2&min=1&max=6200&filters=\n",
      "Scraping :https://www.dreamwaretech.co.za/c/computer-components/storage/microsd-cards/?page=3&min=1&max=6200&filters=\n",
      "Scraping :https://www.dreamwaretech.co.za/c/computer-components/storage/flash-drives/\n",
      "Scraping :https://www.dreamwaretech.co.za/c/computer-components/storage/flash-drives/?page=2&min=1&max=6900&filters=\n",
      "Scraping :https://www.dreamwaretech.co.za/c/computer-components/storage/flash-drives/?page=3&min=1&max=6900&filters=\n",
      "Scraping :https://www.dreamwaretech.co.za/c/computer-components/storage/flash-drives/?page=4&min=1&max=6900&filters=\n",
      "Scraping :https://www.dreamwaretech.co.za/c/computer-components/storage/hdd-enclosures/\n",
      "Scraping :https://www.dreamwaretech.co.za/c/computer-components/storage/hdd-enclosures/?page=2&min=1&max=8400&filters=\n",
      "Scraping :https://www.dreamwaretech.co.za/c/computer-components/storage/hdd-enclosures/?page=3&min=1&max=8400&filters=\n",
      "Scraping :https://www.dreamwaretech.co.za/c/computer-components/storage/hdd-enclosures/?page=4&min=1&max=8400&filters=\n",
      "Scraping :https://www.dreamwaretech.co.za/c/computer-components/storage/2-5-hard-disk-drives/\n",
      "Scraping :https://www.dreamwaretech.co.za/c/computer-components/storage/2-5-hard-disk-drives/?page=2&min=1&max=6000&filters=\n",
      "Scraping :https://www.dreamwaretech.co.za/c/computer-components/storage/2-5-external-hard-drives/\n",
      "Scraping :https://www.dreamwaretech.co.za/c/computer-components/storage/2-5-external-hard-drives/?page=2&min=1&max=9500&filters=\n",
      "Scraping :https://www.dreamwaretech.co.za/c/computer-components/storage/2-5-external-hard-drives/?page=3&min=1&max=9500&filters=\n",
      "Scraping :https://www.dreamwaretech.co.za/c/computer-components/storage/3-5-external-hard-disk-drives-hdd/\n",
      "Scraping :https://www.dreamwaretech.co.za/c/computer-components/motherboards/intel-motherboards/\n",
      "Scraping :https://www.dreamwaretech.co.za/c/computer-components/motherboards/intel-motherboards/?page=2&min=1&max=29300&filters=\n",
      "Scraping :https://www.dreamwaretech.co.za/c/computer-components/motherboards/intel-motherboards/?page=3&min=1&max=29300&filters=\n",
      "Scraping :https://www.dreamwaretech.co.za/c/computer-components/motherboards/intel-motherboards/?page=4&min=1&max=29300&filters=\n",
      "Scraping :https://www.dreamwaretech.co.za/c/computer-components/motherboards/intel-motherboards/?page=5&min=1&max=29300&filters=\n",
      "Scraping :https://www.dreamwaretech.co.za/c/computer-components/motherboards/intel-motherboards/?page=6&min=1&max=29300&filters=\n",
      "Scraping :https://www.dreamwaretech.co.za/c/computer-components/motherboards/intel-motherboards/?page=7&min=1&max=29300&filters=\n",
      "Scraping :https://www.dreamwaretech.co.za/c/computer-components/motherboards/amd-motherboards/\n",
      "Scraping :https://www.dreamwaretech.co.za/c/computer-components/motherboards/amd-motherboards/?page=2&min=1&max=127700&filters=\n",
      "Scraping :https://www.dreamwaretech.co.za/c/computer-components/motherboards/amd-motherboards/?page=3&min=1&max=127700&filters=\n",
      "Scraping :https://www.dreamwaretech.co.za/c/computer-components/motherboards/amd-motherboards/?page=4&min=1&max=127700&filters=\n",
      "Scraping :https://www.dreamwaretech.co.za/c/computer-components/memory-ram/ddr5-desktop-memory/\n",
      "Scraping :https://www.dreamwaretech.co.za/c/computer-components/memory-ram/ddr5-desktop-memory/?page=2&min=1&max=35400&filters=\n",
      "Scraping :https://www.dreamwaretech.co.za/c/computer-components/memory-ram/ddr5-desktop-memory/?page=3&min=1&max=35400&filters=\n",
      "Scraping :https://www.dreamwaretech.co.za/c/computer-components/memory-ram/apple-mac-memory/\n",
      "Scraping :https://www.dreamwaretech.co.za/c/computer-components/memory-ram/apple-mac-memory/?page=2&min=1&max=10400&filters=\n",
      "Scraping :https://www.dreamwaretech.co.za/c/computer-components/memory-ram/ddr3-desktop-pc-memory/\n",
      "Scraping :https://www.dreamwaretech.co.za/c/computer-components/memory-ram/ddr3-desktop-pc-memory/?page=2&min=1&max=9500&filters=\n",
      "Scraping :https://www.dreamwaretech.co.za/c/computer-components/memory-ram/ddr3-desktop-pc-memory/?page=3&min=1&max=9500&filters=\n",
      "Scraping :https://www.dreamwaretech.co.za/c/computer-components/memory-ram/ddr3-desktop-pc-memory/?page=4&min=1&max=9500&filters=\n",
      "Scraping :https://www.dreamwaretech.co.za/c/computer-components/memory-ram/ddr3-desktop-pc-memory/?page=5&min=1&max=9500&filters=\n",
      "Scraping :https://www.dreamwaretech.co.za/c/computer-components/memory-ram/ddr4-desktop-pc-memory/\n",
      "Scraping :https://www.dreamwaretech.co.za/c/computer-components/memory-ram/ddr4-desktop-pc-memory/?page=2&min=1&max=10200&filters=\n",
      "Scraping :https://www.dreamwaretech.co.za/c/computer-components/memory-ram/ddr4-desktop-pc-memory/?page=3&min=1&max=10200&filters=\n",
      "Scraping :https://www.dreamwaretech.co.za/c/computer-components/memory-ram/ddr4-desktop-pc-memory/?page=4&min=1&max=10200&filters=\n",
      "Scraping :https://www.dreamwaretech.co.za/c/computer-components/memory-ram/ddr4-desktop-pc-memory/?page=5&min=1&max=10200&filters=\n",
      "Scraping :https://www.dreamwaretech.co.za/c/computer-components/memory-ram/ddr4-desktop-pc-memory/?page=6&min=1&max=10200&filters=\n",
      "Scraping :https://www.dreamwaretech.co.za/c/computer-components/memory-ram/ddr4-desktop-pc-memory/?page=7&min=1&max=10200&filters=\n",
      "Scraping :https://www.dreamwaretech.co.za/c/computer-components/memory-ram/ddr4-desktop-pc-memory/?page=8&min=1&max=10200&filters=\n",
      "Scraping :https://www.dreamwaretech.co.za/c/computer-components/memory-ram/ddr4-desktop-pc-memory/?page=9&min=1&max=10200&filters=\n",
      "Scraping :https://www.dreamwaretech.co.za/c/computer-components/memory-ram/ddr4-desktop-pc-memory/?page=10&min=1&max=10200&filters=\n",
      "Scraping :https://www.dreamwaretech.co.za/c/computer-components/memory-ram/ddr4-desktop-pc-memory/?page=11&min=1&max=10200&filters=\n",
      "Scraping :https://www.dreamwaretech.co.za/c/computer-components/memory-ram/ddr4-desktop-pc-memory/?page=12&min=1&max=10200&filters=\n",
      "Scraping :https://www.dreamwaretech.co.za/c/computer-components/memory-ram/ddr4-desktop-pc-memory/?page=13&min=1&max=10200&filters=\n",
      "Scraping :https://www.dreamwaretech.co.za/c/computer-components/memory-ram/ddr4-desktop-pc-memory/?page=14&min=1&max=10200&filters=\n",
      "Scraping :https://www.dreamwaretech.co.za/c/computer-components/memory-ram/ddr4-desktop-pc-memory/?page=15&min=1&max=10200&filters=\n",
      "Scraping :https://www.dreamwaretech.co.za/c/computer-components/memory-ram/ddr4-desktop-pc-memory/?page=16&min=1&max=10200&filters=\n",
      "Scraping :https://www.dreamwaretech.co.za/c/computer-components/memory-ram/ddr4-desktop-pc-memory/?page=17&min=1&max=10200&filters=\n",
      "Scraping :https://www.dreamwaretech.co.za/c/computer-components/memory-ram/ddr4-desktop-pc-memory/?page=18&min=1&max=10200&filters=\n",
      "Scraping :https://www.dreamwaretech.co.za/c/computer-components/power-supplies-psus/\n",
      "Scraping :https://www.dreamwaretech.co.za/c/computer-components/power-supplies-psus/?page=2&min=1&max=23600&filters=\n",
      "Scraping :https://www.dreamwaretech.co.za/c/computer-components/power-supplies-psus/?page=3&min=1&max=23600&filters=\n",
      "Scraping :https://www.dreamwaretech.co.za/c/computer-components/power-supplies-psus/?page=4&min=1&max=23600&filters=\n",
      "Scraping :https://www.dreamwaretech.co.za/c/computer-components/power-supplies-psus/?page=5&min=1&max=23600&filters=\n",
      "Scraping :https://www.dreamwaretech.co.za/c/computer-components/pc-cases-chassis/\n",
      "Scraping :https://www.dreamwaretech.co.za/c/computer-components/pc-cases-chassis/?page=2&min=1&max=46200&filters=\n",
      "Scraping :https://www.dreamwaretech.co.za/c/computer-components/pc-cases-chassis/?page=3&min=1&max=46200&filters=\n",
      "Scraping :https://www.dreamwaretech.co.za/c/computer-components/pc-cases-chassis/?page=4&min=1&max=46200&filters=\n",
      "Scraping :https://www.dreamwaretech.co.za/c/computer-components/pc-cases-chassis/?page=5&min=1&max=46200&filters=\n",
      "Scraping :https://www.dreamwaretech.co.za/c/computer-components/pc-cases-chassis/?page=6&min=1&max=46200&filters=\n",
      "Scraping :https://www.dreamwaretech.co.za/c/computer-components/pc-cases-chassis/?page=7&min=1&max=46200&filters=\n",
      "Scraping :https://www.dreamwaretech.co.za/c/computer-components/pc-cases-chassis/?page=8&min=1&max=46200&filters=\n",
      "Scraping :https://www.dreamwaretech.co.za/c/computer-components/pc-cases-chassis/?page=9&min=1&max=46200&filters=\n",
      "Scraping :https://www.dreamwaretech.co.za/c/computer-components/pc-cases-chassis/?page=10&min=1&max=46200&filters=\n",
      "Scraping :https://www.dreamwaretech.co.za/c/computer-components/pc-cases-chassis/?page=11&min=1&max=46200&filters=\n",
      "Scraping :https://www.dreamwaretech.co.za/c/computer-components/pc-cases-chassis/?page=12&min=1&max=46200&filters=\n",
      "Scraping :https://www.dreamwaretech.co.za/c/computer-components/pc-cases-chassis/?page=13&min=1&max=46200&filters=\n",
      "Scraping :https://www.dreamwaretech.co.za/c/computer-components/pc-cases-chassis/?page=14&min=1&max=46200&filters=\n",
      "Scraping :https://www.dreamwaretech.co.za/c/computer-components/pc-cases-chassis/?page=15&min=1&max=46200&filters=\n",
      "Scraping :https://www.dreamwaretech.co.za/c/computer-components/pc-cases-chassis/?page=16&min=1&max=46200&filters=\n",
      "Scraping :https://www.dreamwaretech.co.za/c/computer-components/pc-cases-chassis/?page=17&min=1&max=46200&filters=\n",
      "Scraping :https://www.dreamwaretech.co.za/c/computer-components/pc-cases-chassis/?page=18&min=1&max=46200&filters=\n",
      "Scraping :https://www.dreamwaretech.co.za/c/computer-components/pc-cases-chassis/?page=19&min=1&max=46200&filters=\n",
      "Scraping :https://www.dreamwaretech.co.za/c/computer-components/pc-case-lighting-accessories/\n",
      "Scraping :https://www.dreamwaretech.co.za/c/computer-components/pc-case-lighting-accessories/?page=2&min=1&max=23900&filters=\n",
      "Scraping :https://www.dreamwaretech.co.za/c/computer-components/pc-case-lighting-accessories/?page=3&min=1&max=23900&filters=\n",
      "Scraping :https://www.dreamwaretech.co.za/c/computer-components/computer-cooling/custom-liquid-cooling/\n",
      "Scraping :https://www.dreamwaretech.co.za/c/computer-components/computer-cooling/custom-liquid-cooling/?page=2&min=1&max=9500&filters=\n",
      "Scraping :https://www.dreamwaretech.co.za/c/computer-components/computer-cooling/pc-case-fans/\n",
      "Scraping :https://www.dreamwaretech.co.za/c/computer-components/computer-cooling/pc-case-fans/?page=2&min=1&max=9600&filters=\n",
      "Scraping :https://www.dreamwaretech.co.za/c/computer-components/computer-cooling/pc-case-fans/?page=3&min=1&max=9600&filters=\n",
      "Scraping :https://www.dreamwaretech.co.za/c/computer-components/computer-cooling/pc-case-fans/?page=4&min=1&max=9600&filters=\n",
      "Scraping :https://www.dreamwaretech.co.za/c/computer-components/computer-cooling/pc-case-fans/?page=5&min=1&max=9600&filters=\n",
      "Scraping :https://www.dreamwaretech.co.za/c/computer-components/computer-cooling/pc-case-fans/?page=6&min=1&max=9600&filters=\n",
      "Scraping :https://www.dreamwaretech.co.za/c/computer-components/computer-cooling/pc-case-fans/?page=7&min=1&max=9600&filters=\n",
      "Scraping :https://www.dreamwaretech.co.za/c/computer-components/computer-cooling/pc-case-fans/?page=8&min=1&max=9600&filters=\n",
      "Scraping :https://www.dreamwaretech.co.za/c/computer-components/computer-cooling/pc-case-fans/?page=9&min=1&max=9600&filters=\n",
      "Scraping :https://www.dreamwaretech.co.za/c/computer-components/computer-cooling/pc-case-fans/?page=10&min=1&max=9600&filters=\n",
      "Scraping :https://www.dreamwaretech.co.za/c/computer-components/computer-cooling/pc-case-fans/?page=11&min=1&max=9600&filters=\n",
      "Scraping :https://www.dreamwaretech.co.za/c/computer-components/computer-cooling/thermal-paste/\n",
      "Scraping :https://www.dreamwaretech.co.za/c/computer-components/computer-cooling/thermal-paste/?page=2&min=1&max=7100&filters=\n",
      "Scraping :https://www.dreamwaretech.co.za/c/computer-components/computer-cooling/thermal-paste/?page=3&min=1&max=7100&filters=\n",
      "Scraping :https://www.dreamwaretech.co.za/c/computer-components/computer-cooling/cpu-coolers/\n",
      "Scraping :https://www.dreamwaretech.co.za/c/computer-components/computer-cooling/cpu-coolers/?page=2&min=1&max=22900&filters=\n",
      "Scraping :https://www.dreamwaretech.co.za/c/computer-components/computer-cooling/cpu-coolers/?page=3&min=1&max=22900&filters=\n",
      "Scraping :https://www.dreamwaretech.co.za/c/computer-components/computer-cooling/cpu-coolers/?page=4&min=1&max=22900&filters=\n",
      "Scraping :https://www.dreamwaretech.co.za/c/computer-components/computer-cooling/cpu-coolers/?page=5&min=1&max=22900&filters=\n",
      "Scraping :https://www.dreamwaretech.co.za/c/computer-components/computer-cooling/cpu-coolers/?page=6&min=1&max=22900&filters=\n",
      "Scraping :https://www.dreamwaretech.co.za/c/computer-components/computer-cooling/cpu-coolers/?page=7&min=1&max=22900&filters=\n",
      "Scraping :https://www.dreamwaretech.co.za/c/computer-components/computer-cooling/cpu-coolers/?page=8&min=1&max=22900&filters=\n",
      "Scraping :https://www.dreamwaretech.co.za/c/computer-components/optical-disk-drives-odd/internal-odd-s/\n",
      "Scraping :https://www.dreamwaretech.co.za/c/computer-components/optical-disk-drives-odd/external-odd-s/\n",
      "Scraping :https://www.dreamwaretech.co.za/c/computer-components/optical-disk-drives-odd/bluray-odd-s/\n",
      "Scraping :https://www.dreamwaretech.co.za/c/computer-components/add-on-cards/\n",
      "Scraping :https://www.dreamwaretech.co.za/c/computer-components/add-on-cards/?page=2&min=1&max=30000&filters=\n",
      "Scraping :https://www.dreamwaretech.co.za/c/computer-components/add-on-cards/?page=3&min=1&max=30000&filters=\n",
      "Scraping :https://www.dreamwaretech.co.za/c/computer-components/add-on-cards/?page=4&min=1&max=30000&filters=\n",
      "Scraping :https://www.dreamwaretech.co.za/c/computer-components/add-on-cards/?page=5&min=1&max=30000&filters=\n",
      "Scraping :https://www.dreamwaretech.co.za/c/computer-components/add-on-cards/?page=6&min=1&max=30000&filters=\n"
     ]
    }
   ],
   "source": [
    "url_to_scrape = links\n",
    "df = pd.DataFrame(columns=[\"Title\", \"Price\", \"In Stock\", \"Category\"])\n",
    "\n",
    "# Loop through all the links and scrape the data\n",
    "for elem in url_to_scrape:\n",
    "    base_url = elem[0]\n",
    "    category = elem[1]\n",
    "\n",
    "    paging = True\n",
    "    url = base_url + \"\"\n",
    "    \n",
    "    # Loop through all the pages\n",
    "    while paging:\n",
    "        # Get the content of the page\n",
    "        html_content = requests.get(url, headers={\"User-Agent\": \"Mozilla/5.0\"})\n",
    "        soup = BeautifulSoup(html_content.text)\n",
    "        divs = soup.find_all(\"div\", class_= \"product card\")\n",
    "\n",
    "        print(\"Scraping :\" + url)\n",
    "        \n",
    "        # Loop through all the products on the page\n",
    "        for product in divs:\n",
    "            price = -99\n",
    "            if product.find(\"p\", class_=\"product-price\").text.split(' ')[1] != \"TBC\":\n",
    "                price = float(product.find(\"p\", class_=\"product-price\").text.split(' ')[1].replace('R', ''))\n",
    "            title = product.find(\"p\", class_=\"product-box-name\").find(\"a\").get(\"href\").split(\"/\")[-2].replace(\"-\", \" \")\n",
    "            in_stock = True if \"with supplier\" in product.find(\"p\", class_=\"prod-availability\").text.lower() else False\n",
    "        \n",
    "            df = pd.concat([df, pd.DataFrame({\"Title\": title, \"Price\": price, \"In Stock\": in_stock, \"Category\": category}, index=[0])], ignore_index=True)\n",
    "        \n",
    "        # Check if there is a next page\n",
    "        if soup.find(\"p\", id=\"next-nav\"):\n",
    "            paging = True if soup.find(\"p\", id=\"next-nav\").text in \"Last\" else False\n",
    "            next_page_url = soup.find(\"a\", id=\"a-next-nav\").get(\"href\")\n",
    "\n",
    "            if next_page_url:\n",
    "                url = base_url + next_page_url\n",
    "            else:\n",
    "                paging = False\n",
    "        else:\n",
    "            paging = False\n",
    "        \n",
    "        time.sleep(2)\n",
    "    \n",
    "    time.sleep(5)\n"
   ]
  },
  {
   "cell_type": "markdown",
   "metadata": {},
   "source": [
    "Scraping taking around 9 minutes"
   ]
  },
  {
   "cell_type": "code",
   "execution_count": 38,
   "metadata": {},
   "outputs": [],
   "source": [
    "df.to_csv(\"new_DreamWareTech.csv\", index=False)"
   ]
  },
  {
   "cell_type": "code",
   "execution_count": 47,
   "metadata": {},
   "outputs": [
    {
     "data": {
      "text/plain": [
       "4     6\n",
       "15    6\n",
       "0     5\n",
       "13    5\n",
       "17    5\n",
       "16    5\n",
       "14    5\n",
       "28    5\n",
       "2     5\n",
       "75    4\n",
       "Name: Title, dtype: int64"
      ]
     },
     "execution_count": 47,
     "metadata": {},
     "output_type": "execute_result"
    }
   ],
   "source": [
    "def word_similarity(str1, str2):\n",
    "    str1 = str1.lower().split(\" \")\n",
    "    str2 = str2.lower().split(\" \")\n",
    "    count = 0 \n",
    "    for word in str1:\n",
    "        if word in str2:\n",
    "            count += 1\n",
    "    return count \n",
    "\n",
    "    \n",
    "    \n",
    "\n",
    "#Compute the jaccaard similarity between the test card and all the cards in the dataset\n",
    "df[\"Title\"].apply(lambda x: word_similarity(x, \"gigabyte geforce rtx 4060 ti aero\")).sort_values(ascending=False).head(10)\n",
    "\n"
   ]
  },
  {
   "cell_type": "code",
   "execution_count": 48,
   "metadata": {},
   "outputs": [
    {
     "data": {
      "text/plain": [
       "Title       gigabyte geforce rtx 4060 ti aero oc 16gb gddr...\n",
       "Price                                                 13169.0\n",
       "In Stock                                                 True\n",
       "Category                                       Graphics Cards\n",
       "Name: 4, dtype: object"
      ]
     },
     "execution_count": 48,
     "metadata": {},
     "output_type": "execute_result"
    }
   ],
   "source": [
    "#Print the row at 62\n",
    "df.iloc[4]"
   ]
  }
 ],
 "metadata": {
  "kernelspec": {
   "display_name": "uni",
   "language": "python",
   "name": "python3"
  },
  "language_info": {
   "codemirror_mode": {
    "name": "ipython",
    "version": 3
   },
   "file_extension": ".py",
   "mimetype": "text/x-python",
   "name": "python",
   "nbconvert_exporter": "python",
   "pygments_lexer": "ipython3",
   "version": "3.10.13"
  }
 },
 "nbformat": 4,
 "nbformat_minor": 2
}
