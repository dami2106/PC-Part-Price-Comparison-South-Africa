{
 "cells": [
  {
   "cell_type": "code",
   "execution_count": 28,
   "metadata": {},
   "outputs": [],
   "source": [
    "from thefuzz import fuzz\n",
    "from thefuzz import process\n",
    "import pandas as pd "
   ]
  },
  {
   "cell_type": "code",
   "execution_count": 36,
   "metadata": {},
   "outputs": [],
   "source": [
    "\"\"\"\n",
    "Return a dataframe with the product that best matches the search term.\n",
    "None if the product is less than tol\n",
    "\"\"\"\n",
    "def search_product(search, df, tol):\n",
    "    search_result = process.extractOne(search, df['Title'], scorer=fuzz.token_set_ratio)\n",
    "    if int(search_result[1]) >= tol:\n",
    "        return df[df['Title'] == search_result[0]]\n",
    "    \n",
    "    return None"
   ]
  },
  {
   "cell_type": "code",
   "execution_count": null,
   "metadata": {},
   "outputs": [],
   "source": [
    "# def find_matches(df_list, search_term, tol):\n",
    "    \n",
    "#     product_shops = {\n",
    "#         \"wootware\" : None,\n",
    "#         \"evetech\" : None,\n",
    "#         \"rebeltech\" : None,\n",
    "#         \"takealot\" : None,\n",
    "#         \"dreamwaretech\" : None,\n",
    "#     }\n",
    "\n",
    "\n",
    "\n",
    "#     return None "
   ]
  },
  {
   "cell_type": "code",
   "execution_count": 47,
   "metadata": {},
   "outputs": [],
   "source": [
    "#Read in the wootware csv with pandas \n",
    "woot = pd.read_csv('Products/Processed/12-12-2023_2245_wootware.csv')\n",
    "evetech = pd.read_csv('Products/Processed/11-12-2023_0705_evetech.csv')\n",
    "dream = pd.read_csv('Products/Processed/10-12-2023_2338_dreamwaretech.csv')\n",
    "rebel = pd.read_csv('Products/Processed/10-12-2023_2347_rebeltech.csv')\n",
    "takealot = pd.read_csv('Products/Processed/11-12-2023_0924_takealot.csv')"
   ]
  },
  {
   "cell_type": "code",
   "execution_count": 45,
   "metadata": {},
   "outputs": [
    {
     "name": "stdout",
     "output_type": "stream",
     "text": [
      "                                                 Title   Price  In Stock  \\\n",
      "439  Intel BX8071513400F Core i5-13400F 10-Core 4.6...  4849.0     False   \n",
      "\n",
      "    Category  \n",
      "439      CPU  \n",
      "                   Title  Price  In Stock Category\n",
      "308  Intel Core i5 10600   5799      True      CPU\n",
      "None\n",
      "                                                Title    Price  In Stock  \\\n",
      "45  Intel Core i5-13400F Raptor Lake 10-Core 2.50G...  5177.99      True   \n",
      "\n",
      "   Category  \n",
      "45      CPU  \n",
      "               Title Price  In Stock Category\n",
      "193  Intel i5-13400F  8779      True      CPU\n"
     ]
    }
   ],
   "source": [
    "s = \"i5 13400f\"\n",
    "\n",
    "for cs in [woot, evetech, dream, rebel, takealot]:\n",
    "    print(search_product(s, cs, 80)['Title'])"
   ]
  }
 ],
 "metadata": {
  "kernelspec": {
   "display_name": "uni",
   "language": "python",
   "name": "python3"
  },
  "language_info": {
   "codemirror_mode": {
    "name": "ipython",
    "version": 3
   },
   "file_extension": ".py",
   "mimetype": "text/x-python",
   "name": "python",
   "nbconvert_exporter": "python",
   "pygments_lexer": "ipython3",
   "version": "3.11.4"
  }
 },
 "nbformat": 4,
 "nbformat_minor": 2
}
