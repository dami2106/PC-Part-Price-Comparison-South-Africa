{
 "cells": [
  {
   "cell_type": "code",
   "execution_count": 5,
   "metadata": {},
   "outputs": [],
   "source": [
    "from thefuzz import fuzz\n",
    "from thefuzz import process\n",
    "import pandas as pd "
   ]
  },
  {
   "cell_type": "code",
   "execution_count": 6,
   "metadata": {},
   "outputs": [],
   "source": [
    "\"\"\"\n",
    "Return a dataframe with the product that best matches the search term.\n",
    "None if the product is less than tol\n",
    "\"\"\"\n",
    "def search_product(search, df, tol):\n",
    "    search_result = process.extractOne(search, df['Title'], scorer=fuzz.token_set_ratio)\n",
    "    if int(search_result[1]) >= tol:\n",
    "        return df[df['Title'] == search_result[0]]\n",
    "    \n",
    "    return None"
   ]
  },
  {
   "cell_type": "code",
   "execution_count": 8,
   "metadata": {},
   "outputs": [],
   "source": [
    "#Read in the wootware csv with pandas \n",
    "woot = pd.read_csv('Processed/12-12-2023_2245_wootware.csv')\n",
    "evetech = pd.read_csv('Processed/11-12-2023_0705_evetech.csv')\n",
    "dream = pd.read_csv('Processed/10-12-2023_2338_dreamwaretech.csv')\n",
    "rebel = pd.read_csv('Processed/10-12-2023_2347_rebeltech.csv')\n",
    "takealot = pd.read_csv('Processed/11-12-2023_0924_takealot.csv')"
   ]
  },
  {
   "cell_type": "code",
   "execution_count": 15,
   "metadata": {},
   "outputs": [
    {
     "name": "stdout",
     "output_type": "stream",
     "text": [
      "                                                  Title  Price  In Stock  \\\n",
      "2357  Western Digital WDS100T3B0C WD Blue SN570 1TB ...  -99.0     False   \n",
      "\n",
      "     Category  \n",
      "2357  Storage  \n",
      "                           Title  Price  In Stock Category\n",
      "1520  WD Blue SN580 1TB NVMe SSD    999      True  Storage\n",
      "None\n",
      "None\n",
      "                           Title Price  In Stock Category\n",
      "1421  WD Blue SN570 1TB NVMe SSD  1349      True  Storage\n",
      "2939  WD Blue SN570 1TB NVMe SSD  1349      True  Storage\n",
      "3652  WD Blue SN570 1TB NVMe SSD  1349      True     NVME\n"
     ]
    },
    {
     "ename": "",
     "evalue": "",
     "output_type": "error",
     "traceback": [
      "\u001b[1;31mThe Kernel crashed while executing code in the the current cell or a previous cell. Please review the code in the cell(s) to identify a possible cause of the failure. Click <a href='https://aka.ms/vscodeJupyterKernelCrash'>here</a> for more info. View Jupyter <a href='command:jupyter.viewOutput'>log</a> for further details."
     ]
    }
   ],
   "source": [
    "s = \"wd blue nvme 1tb\"\n",
    "\n",
    "for cs in [woot, evetech, dream, rebel, takealot]:\n",
    "    print(search_product(s, cs, 80))"
   ]
  }
 ],
 "metadata": {
  "kernelspec": {
   "display_name": "uni",
   "language": "python",
   "name": "python3"
  },
  "language_info": {
   "codemirror_mode": {
    "name": "ipython",
    "version": 3
   },
   "file_extension": ".py",
   "mimetype": "text/x-python",
   "name": "python",
   "nbconvert_exporter": "python",
   "pygments_lexer": "ipython3",
   "version": "3.11.4"
  }
 },
 "nbformat": 4,
 "nbformat_minor": 2
}
