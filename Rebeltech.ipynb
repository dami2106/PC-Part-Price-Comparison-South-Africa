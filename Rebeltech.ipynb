{
 "cells": [
  {
   "cell_type": "code",
   "execution_count": 40,
   "metadata": {},
   "outputs": [],
   "source": [
    "from selenium import webdriver as wd\n",
    "from selenium.webdriver.common.by import By\n",
    "from bs4 import BeautifulSoup\n",
    "import time \n",
    "from selenium.webdriver.support.ui import Select\n",
    "from datetime import datetime\n",
    "import time\n",
    "from selenium.webdriver.common.action_chains import ActionChains\n",
    "import requests\n",
    "import csv"
   ]
  },
  {
   "cell_type": "code",
   "execution_count": 41,
   "metadata": {},
   "outputs": [
    {
     "name": "stdout",
     "output_type": "stream",
     "text": [
      "20\n",
      "https://www.rebeltech.co.za/pc-components/desktop-processors?p=2\n"
     ]
    }
   ],
   "source": [
    "URL = 'https://www.rebeltech.co.za/pc-components/desktop-processors'\n",
    "\n",
    "# Parse the HTML\n",
    "home_response = requests.get(URL)\n",
    "home_soup = BeautifulSoup(home_response.text, 'html.parser')\n",
    "\n",
    "allProducts = home_soup.findAll('li', class_=\"item product product-item\")\n",
    "print(len(allProducts))\n",
    "\n",
    "for j in allProducts:\n",
    "    name = j.find(\"a\", class_=\"product-item-link\").text.strip()\n",
    "    #print(name)\n",
    "    price =j.find(\"span\", class_=\"price\").text[4:].replace(',','')\n",
    "    #print(price)\n",
    "\n",
    "nextPage = home_soup.find('li', class_=\"item pages-item-next\").find('a', class_=\"action next\")[\"href\"]\n",
    "print(nextPage)\n"
   ]
  },
  {
   "cell_type": "code",
   "execution_count": 44,
   "metadata": {},
   "outputs": [
    {
     "name": "stdout",
     "output_type": "stream",
     "text": [
      "20\n",
      "Intel Core i7-12700KF Alder Lake 12-Core 3.60GHz LGA1700 125W BX8071512700KF Desktop Processor\n",
      "9313.99\n",
      "Intel Core i7-13700 Raptor Lake 16-Core 2.10GHz LGA1700 65W BX8071513700 Desktop Processor\n",
      "9500.49\n",
      "Intel Core i7-13700F Raptor Lake 16-Core 2.10GHz LGA1700 65W BX8071513700F Desktop Processor\n",
      "9313.99\n",
      "Intel Core i7-13700K Raptor Lake 16-Core 3.40GHz LGA1700 125W BX8071513700K Desktop Processor\n",
      "9996.99\n",
      "Intel Core i7-13700KF Raptor Lake 16-Core 3.40GHz LGA1700 125W BX8071513700KF Desktop Processor\n",
      "9390.99\n",
      "Intel Core i7-14700K Raptor Lake 20-Core 3.40GHz LGA1700 125W BX8071514700K Desktop Processor\n",
      "10366.99\n",
      "Intel Core i7-14700KF Raptor Lake 20-Core 3.40GHz LGA1700 125W BX8071514700KF Desktop Processor\n",
      "9712.49\n",
      "Intel Core i9-10940X Cascade Lake 14-Core 3.30GHz LGA2066 165W BX8069510940X Desktop Processor\n",
      "19125.99\n",
      "Intel Core i9-10980XE Cascade Lake 18-Core 3.00GHz LGA2066 165W BX8069510980XE Desktop Processor\n",
      "23845.49\n",
      "Intel Core i9-11900 Rocket Lake 8-Core 2.50GHz LGA1200 65W BX8070811900 Desktop Processor\n",
      "13101.99\n",
      "Intel Core i9-11900F Rocket Lake 8-Core 2.50GHz LGA1200 65W BX8070811900F Desktop Processor\n",
      "12418.99\n",
      "Intel Core i9-11900K Rocket Lake 8-Core 3.50GHz LGA1200 125W BX8070811900K Desktop Processor\n",
      "13226.49\n",
      "Intel Core i9-11900KF Rocket Lake 8-Core 3.50GHz LGA1200 125W BX8070811900KF Desktop Processor\n",
      "12046.49\n",
      "Intel Core i9-12900 Alder Lake 16-Core 2.40GHz LGA1700 65W BX8071512900 Desktop Processor\n",
      "12623.99\n",
      "Intel Core i9-12900F Alder Lake 16-Core 2.40GHz LGA1700 65W BX8071512900F Desktop Processor\n",
      "12642.49\n",
      "Intel Core i9-12900K Alder Lake 16-Core 3.20GHz LGA1700 125W BX8071512900K Desktop Processor\n",
      "12915.99\n",
      "Intel Core i9-12900KF Alder Lake 16-Core 3.20GHz LGA1700 125W BX8071512900KF Desktop Processor\n",
      "12778.99\n",
      "Intel Core i9-12900KS Alder Lake 16-Core 3.40GHz LGA1700 150W BX8071512900KS Desktop Processor\n",
      "13101.99\n",
      "Intel Core i9-13900 Raptor Lake 24-Core 2.00GHz LGA1700 65W BX8071513900 Desktop Processor\n",
      "13151.99\n",
      "Intel Core i9-13900F Raptor Lake 24-Core 2.00GHz LGA1700 65W BX8071513900F Desktop Processor\n",
      "13014.99\n",
      "https://www.rebeltech.co.za/pc-components/desktop-processors?p=5\n"
     ]
    }
   ],
   "source": [
    "URL = 'https://www.rebeltech.co.za/pc-components/desktop-processors'\n",
    "while True:\n",
    "   \n",
    "    # Parse the HTML\n",
    "    home_response = requests.get(URL)\n",
    "    home_soup = BeautifulSoup(home_response.text, 'html.parser')\n",
    "\n",
    "    allProducts = home_soup.findAll('li', class_=\"item product product-item\")\n",
    "    print(len(allProducts))\n",
    "\n",
    "    for j in allProducts:\n",
    "        name = j.find(\"a\", class_=\"product-item-link\").text.strip()\n",
    "        print(name)\n",
    "        price =j.find(\"span\", class_=\"price\").text[4:].replace(',','')\n",
    "        print(price)\n",
    "\n",
    "    URL = home_soup.find('li', class_=\"item pages-item-next\").find('a', class_=\"action next\")[\"href\"]\n",
    "    print(nextPage)\n",
    "    \n"
   ]
  }
 ],
 "metadata": {
  "kernelspec": {
   "display_name": "Python 3",
   "language": "python",
   "name": "python3"
  },
  "language_info": {
   "codemirror_mode": {
    "name": "ipython",
    "version": 3
   },
   "file_extension": ".py",
   "mimetype": "text/x-python",
   "name": "python",
   "nbconvert_exporter": "python",
   "pygments_lexer": "ipython3",
   "version": "3.11.5"
  }
 },
 "nbformat": 4,
 "nbformat_minor": 2
}
