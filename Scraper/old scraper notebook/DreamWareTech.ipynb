{
 "cells": [
  {
   "cell_type": "code",
   "execution_count": 4,
   "metadata": {},
   "outputs": [],
   "source": [
    "from bs4 import BeautifulSoup\n",
    "import requests\n",
    "import pandas as pd\n",
    "import warnings\n",
    "import time \n",
    "\n",
    "pd.options.mode.chained_assignment = None\n",
    "warnings.simplefilter(action='ignore', category=FutureWarning)"
   ]
  },
  {
   "cell_type": "code",
   "execution_count": 5,
   "metadata": {},
   "outputs": [],
   "source": [
    "# Get the content of the home page\n",
    "home_url = 'https://www.dreamwaretech.co.za/c/computer-components/'\n",
    "home_content = requests.get(home_url, headers={\"User-Agent\": \"Mozilla/5.0 (Windows NT 10.0; Win64; x64) AppleWebKit/537.36 (KHTML, like Gecko) Chrome/91.0.4472.124 Safari/537.36\"})\n",
    "home_soup = BeautifulSoup(home_content.content, 'html.parser')\n",
    "\n",
    "# Get all the categories\n",
    "categories = home_soup.findAll('div', class_='col-md-6 col-lg-4')\n",
    "\n",
    "# Store all links that we need to scrape\n",
    "links = []\n",
    "\n",
    "# Skip the first link \n",
    "for cate in categories[1:]:\n",
    "    link = cate.find('a', href=True)\n",
    "    new_links = 'https://www.dreamwaretech.co.za'+link['href']\n",
    "    categories_name = cate.find('div', class_='category-text').text.strip()\n",
    "\n",
    "    # Get the new page content and categories\n",
    "    new_content = requests.get(new_links, headers={\"User-Agent\": \"Mozilla/5.0\"})\n",
    "    new_soup = BeautifulSoup(new_content.content, 'html.parser')\n",
    "    new_categories = new_soup.findAll('div', class_='col-md-6 col-lg-4')\n",
    "    \n",
    "    # If there are sub-categories, get the links of the sub-categories otherwise get the link of the current page\n",
    "    if len(new_categories) != 0:\n",
    "        final_links = []\n",
    "        for new_cate in new_categories:\n",
    "            final_new_link = new_cate.find('a', href=True)\n",
    "            links.append(['https://www.dreamwaretech.co.za'+final_new_link['href'], categories_name])\n",
    "    else:\n",
    "        links.append([new_links, categories_name])\n",
    "    \n",
    "    time.sleep(1)\n",
    "# print(links)"
   ]
  },
  {
   "cell_type": "code",
   "execution_count": null,
   "metadata": {},
   "outputs": [],
   "source": [
    "url_to_scrape = links\n",
    "df = pd.DataFrame(columns=[\"Title\", \"Price\", \"In Stock\", \"Category\"])\n",
    "\n",
    "# Loop through all the links and scrape the data\n",
    "for elem in url_to_scrape:\n",
    "    base_url = elem[0]\n",
    "    category = elem[1]\n",
    "\n",
    "    paging = True\n",
    "    url = base_url + \"\"\n",
    "    \n",
    "    # Loop through all the pages\n",
    "    while paging:\n",
    "        # Get the content of the page\n",
    "        html_content = requests.get(url, headers={\"User-Agent\": \"Mozilla/5.0\"})\n",
    "        soup = BeautifulSoup(html_content.text)\n",
    "        divs = soup.find_all(\"div\", class_= \"product card\")\n",
    "\n",
    "        print(\"Scraping :\" + url)\n",
    "        \n",
    "        # Loop through all the products on the page\n",
    "        for product in divs:\n",
    "            price = -99\n",
    "            if product.find(\"p\", class_=\"product-price\").text.split(' ')[1] != \"TBC\":\n",
    "                price = float(product.find(\"p\", class_=\"product-price\").text.split(' ')[1].replace('R', ''))\n",
    "            title = product.find(\"p\", class_=\"product-box-name\").find(\"a\").get(\"href\").split(\"/\")[-2].replace(\"-\", \" \")\n",
    "            in_stock = True if \"with supplier\" in product.find(\"p\", class_=\"prod-availability\").text.lower() else False\n",
    "        \n",
    "            df = pd.concat([df, pd.DataFrame({\"Title\": title, \"Price\": price, \"In Stock\": in_stock, \"Category\": category}, index=[0])], ignore_index=True)\n",
    "        \n",
    "        # Check if there is a next page\n",
    "        if soup.find(\"p\", id=\"next-nav\"):\n",
    "            paging = True if soup.find(\"p\", id=\"next-nav\").text in \"Last\" else False\n",
    "            next_page_url = soup.find(\"a\", id=\"a-next-nav\").get(\"href\")\n",
    "\n",
    "            if next_page_url:\n",
    "                url = base_url + next_page_url\n",
    "            else:\n",
    "                paging = False\n",
    "        else:\n",
    "            paging = False\n",
    "        \n",
    "        time.sleep(2)\n",
    "    \n",
    "    time.sleep(5)\n"
   ]
  },
  {
   "cell_type": "markdown",
   "metadata": {},
   "source": [
    "Scraping taking around 9 minutes"
   ]
  },
  {
   "cell_type": "code",
   "execution_count": null,
   "metadata": {},
   "outputs": [],
   "source": [
    "df.to_csv('../Products/DreamWareTech.csv', index=False)"
   ]
  },
  {
   "cell_type": "code",
   "execution_count": null,
   "metadata": {},
   "outputs": [
    {
     "data": {
      "text/plain": [
       "4     6\n",
       "15    6\n",
       "0     5\n",
       "13    5\n",
       "17    5\n",
       "16    5\n",
       "14    5\n",
       "28    5\n",
       "2     5\n",
       "75    4\n",
       "Name: Title, dtype: int64"
      ]
     },
     "execution_count": 47,
     "metadata": {},
     "output_type": "execute_result"
    }
   ],
   "source": [
    "def word_similarity(str1, str2):\n",
    "    str1 = str1.lower().split(\" \")\n",
    "    str2 = str2.lower().split(\" \")\n",
    "    count = 0 \n",
    "    for word in str1:\n",
    "        if word in str2:\n",
    "            count += 1\n",
    "    return count \n",
    "\n",
    "    \n",
    "    \n",
    "\n",
    "#Compute the jaccaard similarity between the test card and all the cards in the dataset\n",
    "df[\"Title\"].apply(lambda x: word_similarity(x, \"gigabyte geforce rtx 4060 ti aero\")).sort_values(ascending=False).head(10)\n",
    "\n"
   ]
  },
  {
   "cell_type": "code",
   "execution_count": null,
   "metadata": {},
   "outputs": [
    {
     "data": {
      "text/plain": [
       "Title       gigabyte geforce rtx 4060 ti aero oc 16gb gddr...\n",
       "Price                                                 13169.0\n",
       "In Stock                                                 True\n",
       "Category                                       Graphics Cards\n",
       "Name: 4, dtype: object"
      ]
     },
     "execution_count": 48,
     "metadata": {},
     "output_type": "execute_result"
    }
   ],
   "source": [
    "#Print the row at 62\n",
    "df.iloc[4]"
   ]
  }
 ],
 "metadata": {
  "kernelspec": {
   "display_name": "uni",
   "language": "python",
   "name": "python3"
  },
  "language_info": {
   "codemirror_mode": {
    "name": "ipython",
    "version": 3
   },
   "file_extension": ".py",
   "mimetype": "text/x-python",
   "name": "python",
   "nbconvert_exporter": "python",
   "pygments_lexer": "ipython3",
   "version": "3.10.13"
  }
 },
 "nbformat": 4,
 "nbformat_minor": 2
}
