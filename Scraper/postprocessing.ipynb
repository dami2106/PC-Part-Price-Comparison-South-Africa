{
 "cells": [
  {
   "cell_type": "code",
   "execution_count": 86,
   "metadata": {},
   "outputs": [],
   "source": [
    "import numpy as np\n",
    "import matplotlib.pyplot as plt\n",
    "import pandas as pd"
   ]
  },
  {
   "cell_type": "code",
   "execution_count": 87,
   "metadata": {},
   "outputs": [
    {
     "name": "stdout",
     "output_type": "stream",
     "text": [
      "10-12-2023_2338_DreamWareTech.csv\n",
      "10-12-2023_2347_rebeltech.csv\n",
      "11-12-2023_0705_evetech.csv\n",
      "11-12-2023_0924_takealot.csv\n",
      "12-12-2023_2245_wootware.csv\n"
     ]
    }
   ],
   "source": [
    "#get all the files under the products folder\n",
    "import os\n",
    "folder_path = 'Products'  # Replace with the actual path to your \"products\" folder\n",
    "# Get all file names in the folder\n",
    "file_names = [f for f in os.listdir(folder_path) if os.path.isfile(os.path.join(folder_path, f))]\n",
    "# Print the list of file names\n",
    "for file_name in file_names:\n",
    "    print(file_name)"
   ]
  },
  {
   "cell_type": "markdown",
   "metadata": {},
   "source": [
    "# Dreamware"
   ]
  },
  {
   "cell_type": "code",
   "execution_count": 88,
   "metadata": {},
   "outputs": [
    {
     "data": {
      "text/plain": [
       "array(['Processors (CPUs)', 'Graphics Cards (GPUs)', 'Storage',\n",
       "       'Motherboards', 'Memory (RAM)', 'Power Supplies (PSUs)',\n",
       "       'PC Cases/Chassis', 'PC Case Lighting & Accessories',\n",
       "       'Computer Cooling', 'Optical Disk Drives (ODD)', 'Add-On Cards'],\n",
       "      dtype=object)"
      ]
     },
     "execution_count": 88,
     "metadata": {},
     "output_type": "execute_result"
    }
   ],
   "source": [
    "#load the dreamwaretech csv\n",
    "dreamwaretech = pd.read_csv('Products/10-12-2023_2338_dreamwaretech.csv')\n",
    "\n",
    "#Get all different categories\n",
    "dreamwaretech_cat = dreamwaretech['Category'].unique()\n",
    "dreamwaretech_cat"
   ]
  },
  {
   "cell_type": "markdown",
   "metadata": {},
   "source": [
    "#### Update "
   ]
  },
  {
   "cell_type": "code",
   "execution_count": 89,
   "metadata": {},
   "outputs": [
    {
     "data": {
      "text/plain": [
       "array(['CPU', 'GPU', 'Storage', 'Motherboard', 'RAM', 'PSU', 'Chassis',\n",
       "       'PC Case Lighting & Accessories', 'Cooler',\n",
       "       'Optical Disk Drives (ODD)', 'Add-On Cards'], dtype=object)"
      ]
     },
     "execution_count": 89,
     "metadata": {},
     "output_type": "execute_result"
    }
   ],
   "source": [
    "#replace the category name to the correct one\n",
    "dreamwaretech['Category'] = dreamwaretech['Category'].replace('Processors (CPUs)', 'CPU')\n",
    "dreamwaretech['Category'] = dreamwaretech['Category'].replace('Graphics Cards (GPUs)', 'GPU')\n",
    "dreamwaretech['Category'] = dreamwaretech['Category'].replace('Strorage', 'Storage')\n",
    "dreamwaretech['Category'] = dreamwaretech['Category'].replace('Motherboards', 'Motherboard')\n",
    "dreamwaretech['Category'] = dreamwaretech['Category'].replace('Memory (RAM)', 'RAM')\n",
    "dreamwaretech['Category'] = dreamwaretech['Category'].replace('Power Supplies (PSUs)', 'PSU')\n",
    "dreamwaretech['Category'] = dreamwaretech['Category'].replace('PC Cases/Chassis', 'Chassis')\n",
    "dreamwaretech['Category'] = dreamwaretech['Category'].replace('Computer Cooling', 'Cooler')\n",
    "\n",
    "#save the new csv\n",
    "dreamwaretech.to_csv('Products/newProducts/10-12-2023_2338_dreamwaretech.csv', index=False)\n",
    "\n",
    "#load the dreamwaretech csv\n",
    "dreamwaretech = pd.read_csv('Products/newProducts/10-12-2023_2338_dreamwaretech.csv')\n",
    "\n",
    "#Get all different categories\n",
    "dreamwaretech_cat = dreamwaretech['Category'].unique()\n",
    "dreamwaretech_cat"
   ]
  },
  {
   "cell_type": "markdown",
   "metadata": {},
   "source": [
    "# Rebeltech"
   ]
  },
  {
   "cell_type": "code",
   "execution_count": 90,
   "metadata": {},
   "outputs": [
    {
     "data": {
      "text/plain": [
       "array(['CPUs / Processors', 'Motherboards', 'RAM / Memory',\n",
       "       'GPUs / Graphics Cards', 'Cases / Chassis',\n",
       "       'PSUs / Power Supplies', 'SSDs / Solid State Drives',\n",
       "       'HDDs / Hard Drives', 'Fans / Cooling', 'Thermal Compounds',\n",
       "       'Sound Cards', 'Keyboards', 'Keycaps', 'Mice', 'Mouse Pads',\n",
       "       'Headsets', 'Combo Sets', 'Monitors', 'Game Pads / Joysticks',\n",
       "       'Cables / Adapters', 'Gaming Chairs', 'Streaming Gear',\n",
       "       'Accessories'], dtype=object)"
      ]
     },
     "execution_count": 90,
     "metadata": {},
     "output_type": "execute_result"
    }
   ],
   "source": [
    "#load the rebeltech csv\n",
    "rebeltech = pd.read_csv('Products/10-12-2023_2347_rebeltech.csv')\n",
    "\n",
    "#Get all different categories\n",
    "rebeltech_cat = rebeltech['Category'].unique()\n",
    "rebeltech_cat"
   ]
  },
  {
   "cell_type": "markdown",
   "metadata": {},
   "source": [
    "#### Update"
   ]
  },
  {
   "cell_type": "code",
   "execution_count": 91,
   "metadata": {},
   "outputs": [
    {
     "data": {
      "text/plain": [
       "array(['CPU', 'Motherboard', 'RAM', 'GPU', 'Chassis', 'PSU', 'Storage',\n",
       "       'Cooler', 'Thermal Compounds', 'Sound Cards', 'Keyboards',\n",
       "       'Keycaps', 'Mice', 'Mouse Pads', 'Headsets', 'Combo Sets',\n",
       "       'Monitors', 'Game Pads / Joysticks', 'Cables / Adapters',\n",
       "       'Gaming Chairs', 'Streaming Gear', 'Accessories'], dtype=object)"
      ]
     },
     "execution_count": 91,
     "metadata": {},
     "output_type": "execute_result"
    }
   ],
   "source": [
    "#replace the category name to the correct one\n",
    "rebeltech['Category'] = rebeltech['Category'].replace('CPUs / Processors', 'CPU')\n",
    "rebeltech['Category'] = rebeltech['Category'].replace('Motherboards', 'Motherboard')\n",
    "rebeltech['Category'] = rebeltech['Category'].replace('RAM / Memory', 'RAM')\n",
    "rebeltech['Category'] = rebeltech['Category'].replace('GPUs / Graphics Cards', 'GPU')\n",
    "rebeltech['Category'] = rebeltech['Category'].replace('Cases / Chassis', 'Chassis')\n",
    "rebeltech['Category'] = rebeltech['Category'].replace('PSUs / Power Supplies', 'PSU')\n",
    "rebeltech['Category'] = rebeltech['Category'].replace('SSDs / Solid State Drives', 'Storage')\n",
    "rebeltech['Category'] = rebeltech['Category'].replace('HDDs / Hard Drives', 'Storage')\n",
    "rebeltech['Category'] = rebeltech['Category'].replace('Fans / Cooling', 'Cooler')\n",
    "\n",
    "#save the new csv\n",
    "rebeltech.to_csv('Products/newProducts/10-12-2023_2347_rebeltech.csv', index=False)\n",
    "\n",
    "#load the rebeltech csv\n",
    "rebeltech = pd.read_csv('Products/newProducts/10-12-2023_2347_rebeltech.csv')\n",
    "\n",
    "#Get all different categories\n",
    "rebeltech_cat = rebeltech['Category'].unique()\n",
    "rebeltech_cat"
   ]
  },
  {
   "cell_type": "markdown",
   "metadata": {},
   "source": [
    "# Evetech"
   ]
  },
  {
   "cell_type": "code",
   "execution_count": 92,
   "metadata": {},
   "outputs": [
    {
     "data": {
      "text/plain": [
       "array(['Case Fans', 'Computer Case Accessories', 'Fractal Design Cases',\n",
       "       'ASUS Gaming Cases', 'Gamdias Gaming Cases',\n",
       "       'Evetech Gaming Cases', 'Antec Gaming Cases',\n",
       "       'Corsair Gaming Cases', 'CPU Coolers', 'AMD RYZEN CPUs',\n",
       "       'INTEL CPU', 'eSports Merchandise', 'Buy Gaming Accessories',\n",
       "       'GAMING CHAIRS', 'Gamdias Gaming Keyboards',\n",
       "       'Logitech Gaming Keyboards', 'Corsair Gaming Keyboards',\n",
       "       'Arozzi Gaming Mouse', 'Glorious Gaming Mouse',\n",
       "       'Logitech Gaming Mouse', 'Corsair Gaming Mice',\n",
       "       'Steelseries Gaming Mouse', 'Graphics Card (GPU)',\n",
       "       'Logitech Gaming Headsets', 'Corsair Gaming Headsets',\n",
       "       'Steelseries Headset & Headphones', 'RAZER Headset & Headphones',\n",
       "       'Laptop Backpack And Bags', 'Memory (RAM)', 'Mini PCs',\n",
       "       'PC Monitors', 'Monster Wireless', 'Motherboards', 'Mouse Pads',\n",
       "       'OPEN BOX DEALS', 'Playseat Chairs', 'Power Supply (PSU)',\n",
       "       'Operating System (OS)', 'Speakers',\n",
       "       'External Portable SSDs (Solid State Drives)',\n",
       "       'Solid State Drives (SSD)', 'Thrustmaster', 'Upgrade Bundle',\n",
       "       'UPS For Sale', 'Buy Webcams', 'Wired Networking', 'Fibre Routers',\n",
       "       'Range Extenders', 'Wireless Adapters'], dtype=object)"
      ]
     },
     "execution_count": 92,
     "metadata": {},
     "output_type": "execute_result"
    }
   ],
   "source": [
    "#load the evetech csv\n",
    "evetech = pd.read_csv('Products/11-12-2023_0705_evetech.csv')\n",
    "\n",
    "#Get all different categories\n",
    "evetech_cat = evetech['Category'].unique()\n",
    "evetech_cat"
   ]
  },
  {
   "cell_type": "markdown",
   "metadata": {},
   "source": [
    "#### Update"
   ]
  },
  {
   "cell_type": "code",
   "execution_count": 93,
   "metadata": {},
   "outputs": [
    {
     "data": {
      "text/plain": [
       "array(['Cooler', 'Computer Case Accessories', 'Chassis',\n",
       "       'Gamdias Gaming Cases', 'Evetech Gaming Cases', 'CPU',\n",
       "       'eSports Merchandise', 'Buy Gaming Accessories', 'GAMING CHAIRS',\n",
       "       'Keyboard', 'Mouse', 'Graphics Card (GPU)', 'Headset',\n",
       "       'Steelseries Headset & Headphones', 'Laptop Backpack And Bags',\n",
       "       'RAM', 'Mini PCs', 'PC Monitors', 'Monster Wireless',\n",
       "       'Motherboard', 'Mouse Pads', 'OPEN BOX DEALS', 'Playseat Chairs',\n",
       "       'PSU', 'Operating System (OS)', 'Speakers', 'Storage',\n",
       "       'Thrustmaster', 'Upgrade Bundle', 'UPS For Sale', 'Buy Webcams',\n",
       "       'Wired Networking', 'Fibre Routers', 'Range Extenders',\n",
       "       'Wireless Adapters'], dtype=object)"
      ]
     },
     "execution_count": 93,
     "metadata": {},
     "output_type": "execute_result"
    }
   ],
   "source": [
    "#replace the category name to the correct one\n",
    "evetech['Category'] = evetech['Category'].replace('Case Fans', 'Cooler')\n",
    "evetech['Category'] = evetech['Category'].replace('Fractal Design Cases', 'Chassis')\n",
    "evetech['Category'] = evetech['Category'].replace('ASUS Gaming Cases', 'Chassis')\n",
    "evetech['Category'] = evetech['Category'].replace('Antec Gaming Cases', 'Chassis')\n",
    "evetech['Category'] = evetech['Category'].replace('Corsair Gaming Cases', 'Chassis')\n",
    "evetech['Category'] = evetech['Category'].replace('CPU Coolers', 'Cooler')\n",
    "evetech['Category'] = evetech['Category'].replace('AMD RYZEN CPUs', 'CPU')\n",
    "evetech['Category'] = evetech['Category'].replace('INTEL CPU', 'CPU')\n",
    "evetech['Category'] = evetech['Category'].replace('Gamdias Gaming Keyboards', 'Keyboard')\n",
    "evetech['Category'] = evetech['Category'].replace('Logitech Gaming Keyboards', 'Keyboard')\n",
    "evetech['Category'] = evetech['Category'].replace('Corsair Gaming Keyboards', 'Keyboard')\n",
    "evetech['Category'] = evetech['Category'].replace('Arozzi Gaming Mouse', 'Mouse')\n",
    "evetech['Category'] = evetech['Category'].replace('Glorious Gaming Mouse', 'Mouse')\n",
    "evetech['Category'] = evetech['Category'].replace('Logitech Gaming Mouse', 'Mouse')\n",
    "evetech['Category'] = evetech['Category'].replace(['Corsair Gaming Mice', 'Steelseries Gaming Mouse'], 'Mouse')\n",
    "evetech['Category'] = evetech['Category'].replace('Graphics Cards', 'GPU')\n",
    "evetech['Category'] = evetech['Category'].replace(['Logitech Gaming Headsets', 'Corsair Gaming Headsets','Steelseries Headsets & Headphones', 'RAZER Headset & Headphones'], 'Headset')\n",
    "evetech['Category'] = evetech['Category'].replace('Memory (RAM)', 'RAM')\n",
    "evetech['Category'] = evetech['Category'].replace('Motherboards', 'Motherboard')\n",
    "evetech['Category'] = evetech['Category'].replace('Power Supply (PSU)', 'PSU')\n",
    "evetech['Category'] = evetech['Category'].replace('Solid State Drives (SSD)', 'Storage')\n",
    "evetech['Category'] = evetech['Category'].replace('External Portable SSDs (Solid State Drives)', 'Storage')\n",
    "\n",
    "#save the new csv\n",
    "evetech.to_csv('Products/newProducts/11-12-2023_0705_evetech.csv', index=False)\n",
    "\n",
    "#load the evetech csv\n",
    "evetech = pd.read_csv('Products/newProducts/11-12-2023_0705_evetech.csv')\n",
    "\n",
    "#Get all different categories\n",
    "evetech_cat = evetech['Category'].unique()\n",
    "evetech_cat\n",
    "\n"
   ]
  },
  {
   "cell_type": "markdown",
   "metadata": {},
   "source": [
    "# Takealot"
   ]
  },
  {
   "cell_type": "markdown",
   "metadata": {},
   "source": [
    "## fixed in stock "
   ]
  },
  {
   "cell_type": "code",
   "execution_count": 94,
   "metadata": {},
   "outputs": [
    {
     "data": {
      "text/plain": [
       "array(['In stock', 'Ships in 5 - 7 work days', 'Ships in 4 - 6 work days',\n",
       "       'In Stock', 'Ships in 8 - 10 work days',\n",
       "       'Ships in 7 - 9 work days', 'Supplier out of stock',\n",
       "       'Unboxed stock available', 'Ships in 3 - 5 work days',\n",
       "       'Ships in 7 - 10 work days'], dtype=object)"
      ]
     },
     "execution_count": 94,
     "metadata": {},
     "output_type": "execute_result"
    }
   ],
   "source": [
    "#laod the takealot csv\n",
    "takealot = pd.read_csv('Products/11-12-2023_0924_takealot.csv')\n",
    "\n",
    "takealot['In Stock'].unique()"
   ]
  },
  {
   "cell_type": "code",
   "execution_count": 95,
   "metadata": {},
   "outputs": [
    {
     "data": {
      "text/plain": [
       "array([ True, False])"
      ]
     },
     "execution_count": 95,
     "metadata": {},
     "output_type": "execute_result"
    }
   ],
   "source": [
    "#update the in stock column\n",
    "takealot['In Stock'] = takealot['In Stock'].replace(['In Stock',  'Ships in 5 - 7 work days', 'Ships in 4 - 6 work days',\n",
    "       'In stock', 'Ships in 8 - 10 work days',\n",
    "       'Ships in 7 - 9 work days', 'Unboxed stock available', 'Ships in 3 - 5 work days',\n",
    "       'Ships in 7 - 10 work days'],True)\n",
    "\n",
    "takealot['In Stock'] = takealot['In Stock'].replace(['Supplier out of stock'],False)\n",
    "takealot['In Stock'].unique()\n"
   ]
  },
  {
   "cell_type": "code",
   "execution_count": 96,
   "metadata": {},
   "outputs": [
    {
     "data": {
      "text/plain": [
       "array(['CPU', 'Motherboard', 'Power Supplies', 'RAM', 'Graphics Card',\n",
       "       'HDD', 'SSD', 'NVME', 'SATA', 'Chasis', 'Interface Cards',\n",
       "       'Sound Cards', 'Optical Drives', 'Fans and Cooling', 'Monitor',\n",
       "       'Mouse', 'Keyboard', 'Headset', 'Speakers', 'Webcam', 'Mouse Pad'],\n",
       "      dtype=object)"
      ]
     },
     "execution_count": 96,
     "metadata": {},
     "output_type": "execute_result"
    }
   ],
   "source": [
    "\n",
    "\n",
    "#Get all different categories\n",
    "takealot_cat = takealot['Category'].unique()\n",
    "takealot_cat"
   ]
  },
  {
   "cell_type": "markdown",
   "metadata": {},
   "source": [
    "#### Update"
   ]
  },
  {
   "cell_type": "code",
   "execution_count": 97,
   "metadata": {},
   "outputs": [
    {
     "data": {
      "text/plain": [
       "array(['CPU', 'Motherboard', 'PSU', 'RAM', 'GPU', 'Storage', 'NVME',\n",
       "       'SATA', 'Chassis', 'Interface Cards', 'Sound Cards',\n",
       "       'Optical Drives', 'Cooler', 'Monitor', 'Mouse', 'Keyboard',\n",
       "       'Headset', 'Speakers', 'Webcam', 'Mouse Pad'], dtype=object)"
      ]
     },
     "execution_count": 97,
     "metadata": {},
     "output_type": "execute_result"
    }
   ],
   "source": [
    "#replace the category name to the correct one\n",
    "takealot['Category'] = takealot['Category'].replace('Power Supplies', 'PSU')\n",
    "takealot['Category'] = takealot['Category'].replace('Graphics Card', 'GPU')\n",
    "takealot['Category'] = takealot['Category'].replace('Chasis', 'Chassis')\n",
    "takealot['Category'] = takealot['Category'].replace('HDD', 'Storage')\n",
    "takealot['Category'] = takealot['Category'].replace('SSD', 'Storage')\n",
    "takealot['Category'] = takealot['Category'].replace('NVME', 'Storage')\n",
    "takealot['Category'] = takealot['Category'].replace('SATA', 'Storage')\n",
    "takealot['Category'] = takealot['Category'].replace('Memory', 'RAM')\n",
    "takealot['Category'] = takealot['Category'].replace('Fans and Cooling', 'Cooler')\n",
    "\n",
    "#save the new csv\n",
    "takealot.to_csv('Products/newProducts/11-12-2023_0924_takealot.csv', index=False)\n",
    "\n",
    "#load the evetech csv\n",
    "takealot = pd.read_csv('Products/newProducts/11-12-2023_0924_takealot.csv')\n",
    "\n",
    "#Get all different categories\n",
    "takealot_cat = takealot['Category'].unique()\n",
    "takealot_cat"
   ]
  },
  {
   "cell_type": "markdown",
   "metadata": {},
   "source": [
    "# Wootware"
   ]
  },
  {
   "cell_type": "code",
   "execution_count": 98,
   "metadata": {},
   "outputs": [
    {
     "data": {
      "text/plain": [
       "array(['Graphics Cards', 'Processors / CPUs', 'Memory / RAM',\n",
       "       'Motherboards', 'Power Supplies / PSUs', 'Cases / Chassis',\n",
       "       'Solid State Drives / SSDs', 'Internal Hard Drives',\n",
       "       'External Hard Drives', 'CD/DVD/Blu-Ray Burners & Media',\n",
       "       'Flash Memory / USB & Card Readers', 'Hard Drive Enclosures',\n",
       "       'Hard Drive Docks', 'Monitors / Screens',\n",
       "       'Keyboards, Mice & Controllers', 'Headsets, Speakers & Mics',\n",
       "       'Projectors', 'Soundcards', 'Printers, Scanners & Fax',\n",
       "       'Ink & Toner', 'Modems', 'Routers', 'Adapters', 'Switches',\n",
       "       'Wireless Networks', 'Network Attached Storage',\n",
       "       'Water / Liquid Cooling', 'Fans & CPU Coolers',\n",
       "       'UPS / Power Protection', 'Cables', 'Other', 'Tools', 'Software',\n",
       "       'Webcams', 'Cellphones', 'Consoles', 'Gaming Chairs'], dtype=object)"
      ]
     },
     "execution_count": 98,
     "metadata": {},
     "output_type": "execute_result"
    }
   ],
   "source": [
    "#load the wootware csv\n",
    "wootware = pd.read_csv('Products/12-12-2023_2245_wootware.csv')\n",
    "\n",
    "#Get all different categories\n",
    "wootware_cat = wootware['Category'].unique()\n",
    "wootware_cat"
   ]
  },
  {
   "cell_type": "markdown",
   "metadata": {},
   "source": [
    "#### Update"
   ]
  },
  {
   "cell_type": "code",
   "execution_count": 99,
   "metadata": {},
   "outputs": [
    {
     "data": {
      "text/plain": [
       "array(['GPU', 'CPU', 'RAM', 'Motherboard', 'PSU', 'Chassis', 'Storage',\n",
       "       'Internal Hard Drives', 'External Hard Drives',\n",
       "       'CD/DVD/Blu-Ray Burners & Media',\n",
       "       'Flash Memory / USB & Card Readers', 'Hard Drive Enclosures',\n",
       "       'Hard Drive Docks', 'Monitors / Screens',\n",
       "       'Keyboards, Mice & Controllers', 'Headsets, Speakers & Mics',\n",
       "       'Projectors', 'Soundcards', 'Printers, Scanners & Fax',\n",
       "       'Ink & Toner', 'Modems', 'Routers', 'Adapters', 'Switches',\n",
       "       'Wireless Networks', 'Network Attached Storage', 'Cooler',\n",
       "       'UPS / Power Protection', 'Cables', 'Other', 'Tools', 'Software',\n",
       "       'Webcams', 'Cellphones', 'Consoles', 'Gaming Chairs'], dtype=object)"
      ]
     },
     "execution_count": 99,
     "metadata": {},
     "output_type": "execute_result"
    }
   ],
   "source": [
    "#replace the category name to the correct one\n",
    "wootware['Category'] = wootware['Category'].replace('Graphics Cards', 'GPU')\n",
    "wootware['Category'] = wootware['Category'].replace('Processors / CPUs', 'CPU')\n",
    "wootware['Category'] = wootware['Category'].replace('Memory / RAM', 'RAM')\n",
    "wootware['Category'] = wootware['Category'].replace('Motherboards', 'Motherboard')\n",
    "wootware['Category'] = wootware['Category'].replace('Power Supplies / PSUs', 'PSU')\n",
    "wootware['Category'] = wootware['Category'].replace('Cases / Chassis', 'Chassis')\n",
    "wootware['Category'] = wootware['Category'].replace('Solid State Drives / SSDs', 'Storage')\n",
    "wootware['Category'] = wootware['Category'].replace('Internal Hard Drives / HDDs', 'Storage')\n",
    "wootware['Category'] = wootware['Category'].replace('External Hard Drives / HDDs', 'Storage')\n",
    "wootware['Category'] = wootware['Category'].replace('Fans & CPU Coolers', 'Cooler')\n",
    "wootware['Category'] = wootware['Category'].replace('Water / Liquid Cooling', 'Cooler')\n",
    "\n",
    "#save the new csv\n",
    "wootware.to_csv('Products/newProducts/12-12-2023_2245_wootware.csv', index=False)\n",
    "\n",
    "#load the wootware csv\n",
    "wootware = pd.read_csv('Products/newProducts/12-12-2023_2245_wootware.csv')\n",
    "\n",
    "#Get all different categories\n",
    "wootware_cat = wootware['Category'].unique()\n",
    "wootware_cat"
   ]
  }
 ],
 "metadata": {
  "kernelspec": {
   "display_name": "Scrapper",
   "language": "python",
   "name": "python3"
  },
  "language_info": {
   "codemirror_mode": {
    "name": "ipython",
    "version": 3
   },
   "file_extension": ".py",
   "mimetype": "text/x-python",
   "name": "python",
   "nbconvert_exporter": "python",
   "pygments_lexer": "ipython3",
   "version": "3.10.13"
  }
 },
 "nbformat": 4,
 "nbformat_minor": 2
}
