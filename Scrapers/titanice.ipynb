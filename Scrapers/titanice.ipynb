{
 "cells": [
  {
   "cell_type": "code",
   "execution_count": 77,
   "metadata": {},
   "outputs": [],
   "source": [
    "from bs4 import BeautifulSoup\n",
    "import requests\n",
    "import pandas as pd\n",
    "import warnings\n",
    "import time \n",
    "from datetime import datetime\n",
    "import os\n",
    "from tqdm import tqdm\n",
    "import csv"
   ]
  },
  {
   "cell_type": "code",
   "execution_count": null,
   "metadata": {},
   "outputs": [],
   "source": [
    "# Define the folder and subfolder paths\n",
    "folder_path = '../Data/'\n",
    "subfolder_path = f'{folder_path}Raw/'\n",
    "\n",
    "# Check if the subfolder exists, and create it if it doesn't\n",
    "if not os.path.exists(subfolder_path):\n",
    "    os.makedirs(subfolder_path)\n",
    "\n",
    "# Create csv file \n",
    "csv_file = open(f'{subfolder_path}6_Titanice.csv', 'w', newline='', encoding='utf-8')\n",
    "csv_writer = csv.writer(csv_file)\n",
    "csv_writer.writerow(['Title','Price','In Stock','Category','URL'])"
   ]
  },
  {
   "cell_type": "code",
   "execution_count": 82,
   "metadata": {},
   "outputs": [],
   "source": [
    "All_links =[\n",
    "    ['https://www.titan-ice.co.za/hardware/solid-state-drives/', 'Storage'],\n",
    "    ['https://www.titan-ice.co.za/hardware/memory-ram/', 'RAM'],\n",
    "    ['https://www.titan-ice.co.za/hardware/graphics-cards/', 'GPU'],\n",
    "    ['https://www.titan-ice.co.za/hardware/hard-drives/', 'Storage'],\n",
    "    ['https://www.titan-ice.co.za/hardware/motherboards/', 'Motherboard'],\n",
    "    ['https://www.titan-ice.co.za/hardware/processors/', 'CPU'],\n",
    "    ['https://www.titan-ice.co.za/hardware/power-supplies/', 'PSU'],\n",
    "    ['https://www.titan-ice.co.za/hardware/chassis/', 'Chassis'],\n",
    "    ['https://www.titan-ice.co.za/hardware/air-cooling/', 'Cooler'],\n",
    "    ['https://www.titan-ice.co.za/hardware/thermal-interface-material/', 'Cooler'],\n",
    "    ['https://www.titan-ice.co.za/hardware/water-cooling/', 'Cooler'],\n",
    "    ['https://www.titan-ice.co.za/hardware/multimedia/', 'MULTIMEDIA'],\n",
    "    ['https://www.titan-ice.co.za/hardware/io-cards/', 'I/O CARDS'],\n",
    "    ['https://www.titan-ice.co.za/hardware/software/', 'SOFTWARE'],\n",
    "    ['https://www.titan-ice.co.za/hardware/drive-bay-accessories/', 'Chassis'],\n",
    "    ['https://www.titan-ice.co.za/hardware/internal-cables/', 'Chassis'],\n",
    "   \n",
    "]\n"
   ]
  },
  {
   "cell_type": "code",
   "execution_count": 79,
   "metadata": {},
   "outputs": [],
   "source": [
    "# Get the page content\n",
    "url = \"https://www.titan-ice.co.za/hardware/solid-state-drives/\"\n",
    "# url = \"https://www.titan-ice.co.za/hardware/solid-state-drives/page-25/\"\n"
   ]
  },
  {
   "cell_type": "code",
   "execution_count": 80,
   "metadata": {},
   "outputs": [
    {
     "name": "stdout",
     "output_type": "stream",
     "text": [
      "321\n"
     ]
    }
   ],
   "source": [
    "# Loop through all the links\n",
    "for i in All_links:\n",
    "    # Get the URL and category\n",
    "    url = i[0]\n",
    "    category = i[1]\n",
    "    \n",
    "    # Start scraping all products under one category\n",
    "    scraping = True\n",
    "    print(f\"Scraping {url} category\")\n",
    "    while scraping:\n",
    "\n",
    "        page_content = requests.get(url, headers={\"User-Agent\": \"Mozilla/5.0 (Windows NT 10.0; Win64; x64) AppleWebKit/537.36 (KHTML, like Gecko) Chrome/91.0.4472.124 Safari/537.36\"})\n",
    "        soup = BeautifulSoup(page_content.content, 'html.parser')\n",
    "        products = soup.findAll('div', class_='ty-column3')\n",
    "        \n",
    "        for i in products:\n",
    "            product_name = i.find('a', class_='product-title').text.strip()\n",
    "\n",
    "            product_price = i.find('span', class_='ty-list-price').text.strip().replace('R', '').replace('.00', '').replace(' ', '')\n",
    "\n",
    "            availability = i.find('div', class_='ty-control-group').find('span').text.strip()\n",
    "            product_availability = True\n",
    "            if availability == \"Out of stock\":\n",
    "                product_availability = False\n",
    "\n",
    "            product_url = i.find('a', class_='product-title')['href']\n",
    "            csv_writer.writerow([product_name, product_price, product_availability, category, product_url])\n",
    "                # print(product_name, \":\",product_price, \":\", availability, \":\", product_availability, \":\", product_url)\n",
    "            \n",
    "\n",
    "        url = soup.find('a', class_='ty-pagination__right-arrow')\n",
    "        #check if the url contains a href\n",
    "        if 'href' in url.attrs:\n",
    "            url = url['href']\n",
    "        else:\n",
    "            scraping = False\n",
    "   \n",
    "# print(total_product)"
   ]
  },
  {
   "cell_type": "code",
   "execution_count": null,
   "metadata": {},
   "outputs": [],
   "source": [
    "csv_file.close()"
   ]
  }
 ],
 "metadata": {
  "kernelspec": {
   "display_name": "Scrapper",
   "language": "python",
   "name": "python3"
  },
  "language_info": {
   "codemirror_mode": {
    "name": "ipython",
    "version": 3
   },
   "file_extension": ".py",
   "mimetype": "text/x-python",
   "name": "python",
   "nbconvert_exporter": "python",
   "pygments_lexer": "ipython3",
   "version": "3.10.13"
  }
 },
 "nbformat": 4,
 "nbformat_minor": 2
}
