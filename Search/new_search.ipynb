{
 "cells": [
  {
   "cell_type": "code",
   "execution_count": 22,
   "metadata": {},
   "outputs": [
    {
     "name": "stdout",
     "output_type": "stream",
     "text": [
      "Requirement already satisfied: thefuzz in c:\\users\\gavin\\anaconda3\\envs\\scrapper\\lib\\site-packages (0.20.0)\n",
      "Requirement already satisfied: rapidfuzz<4.0.0,>=3.0.0 in c:\\users\\gavin\\anaconda3\\envs\\scrapper\\lib\\site-packages (from thefuzz) (3.6.1)\n",
      "Requirement already satisfied: Texttable in c:\\users\\gavin\\anaconda3\\envs\\scrapper\\lib\\site-packages (1.7.0)\n"
     ]
    }
   ],
   "source": [
    "!pip install thefuzz\n",
    "!pip install Texttable"
   ]
  },
  {
   "cell_type": "code",
   "execution_count": 1,
   "metadata": {},
   "outputs": [],
   "source": [
    "# %%\n",
    "from thefuzz import fuzz\n",
    "from thefuzz import process\n",
    "import pandas as pd \n",
    "from texttable import Texttable\n"
   ]
  },
  {
   "cell_type": "code",
   "execution_count": 2,
   "metadata": {},
   "outputs": [],
   "source": [
    "# %%\n",
    "#Read in the wootware csv with pandas \n",
    "dream = pd.read_csv('../Data/0_DreamWareTech.csv')\n",
    "evetech = pd.read_csv('../Data/1_Evetech.csv')\n",
    "rebel = pd.read_csv('../Data/2_Rebeltech.csv')\n",
    "takealot = pd.read_csv('../Data/3_Takealot.csv')\n",
    "woot = pd.read_csv('../Data/4_Wootware.csv')\n",
    "progenix = pd.read_csv('../Data/5_Progenix.csv')\n",
    "titanice = pd.read_csv('../Data/6_Titanice.csv')\n"
   ]
  },
  {
   "cell_type": "code",
   "execution_count": 7,
   "metadata": {},
   "outputs": [],
   "source": [
    "# %%\n",
    "\"\"\"\n",
    "Formatting tool\n",
    "\"\"\"\n",
    "def format_title(title):\n",
    "    title = title.lower()\n",
    "    title = title.replace('-', ' ')\n",
    "    title = title.replace(',', ' ')\n",
    "    title = title.replace('.', ' ')\n",
    "    title = title.replace('(', '')\n",
    "    title = title.replace(')', '')\n",
    "    title = title.replace('[', '')\n",
    "    title = title.replace(']', '')\n",
    "    return title\n",
    "\n",
    "\n",
    "\"\"\"\n",
    "Return a dataframe with the product that best matches the search term.\n",
    "None if the product is less than tol\n",
    "\"\"\"\n",
    "def search_product(search, df, tol):\n",
    "    search = format_title(search)\n",
    "    # search_result = process.extractOne(search, df['Title'], scorer=fuzz.token_set_ratio)\n",
    "    matches = process.extract(search,  df['Title'], scorer=fuzz.token_set_ratio)\n",
    "    filtered_matches = [match for match in matches if match[1] >= tol]\n",
    "\n",
    "\n",
    "    matched_data = df[df['Title'].isin([match[0] for match in filtered_matches])]\n",
    "    sorted_data = matched_data.sort_values(by='Price', ascending=True)\n",
    "    \n",
    "    if not sorted_data.empty:\n",
    "        return sorted_data.iloc[0]\n",
    "    else:\n",
    "        return None\n",
    "\n",
    "def search_all_stores(search_term, tol = 95):\n",
    "    return  {\n",
    "        'dream': search_product(search_term, dream, tol),\n",
    "        'evetech': search_product(search_term, evetech, tol),\n",
    "        'rebel': search_product(search_term, rebel, tol),\n",
    "        'takealot': search_product(search_term, takealot, tol),\n",
    "        'woot': search_product(search_term, woot, tol),\n",
    "        'progenix': search_product(search_term, progenix, tol),\n",
    "        'titanice': search_product(search_term, titanice, tol),\n",
    "    }\n"
   ]
  },
  {
   "cell_type": "code",
   "execution_count": 13,
   "metadata": {},
   "outputs": [
    {
     "name": "stdout",
     "output_type": "stream",
     "text": [
      "+----------+-----------------------------------------------------------+-------+\n",
      "|  Store   |                           Item                            | Price |\n",
      "+==========+===========================================================+=======+\n",
      "| Dream    | Gigabyte geforce rtx 3080 eagle 12g gddr6x graphics card  | 18959 |\n",
      "+----------+-----------------------------------------------------------+-------+\n",
      "| Evetech  | Msi geforce rtx 3080 gaming x trio 10gb                   | 13999 |\n",
      "+----------+-----------------------------------------------------------+-------+\n",
      "| Rebel    | Gigabyte geforce rtx 3080 turbo 10gb gddr6x gv n3080turbo | 16268 |\n",
      "|          | 10gd graphics card                                        |       |\n",
      "+----------+-----------------------------------------------------------+-------+\n",
      "| Takealot | N/A                                                       | N/A   |\n",
      "+----------+-----------------------------------------------------------+-------+\n",
      "| Woot     | Gigabyte geforce rtx 3080 turbo 10g gv n3080turbo 10gd    | 15899 |\n",
      "|          | 10gb gddr6x 320 bit pci e 4 0 desktop graphics card lite  |       |\n",
      "|          | hash rate                                                 |       |\n",
      "+----------+-----------------------------------------------------------+-------+\n",
      "| Progenix | Gigabyte geforce rtx 3080 turbo 10g graphics card  10gb   | 15817 |\n",
      "+----------+-----------------------------------------------------------+-------+\n",
      "| Titanice | Gigabyte geforce rtx 3080 turbo 10gb                      | 16699 |\n",
      "+----------+-----------------------------------------------------------+-------+\n"
     ]
    }
   ],
   "source": [
    "# %%\n",
    "search_term = \"rtx 3080\"\n",
    "\n",
    "search_result = search_all_stores(search_term=search_term, tol=95)\n",
    "# print(search_result)\n",
    "table = [['Store', 'Item', 'Price']]\n",
    "t = Texttable()\n",
    "for shop in search_result:\n",
    "    if shop:\n",
    "\n",
    "        try:\n",
    "            table.append([shop.capitalize(), \n",
    "                          search_result[shop]['Title'].capitalize(), \n",
    "                          str(int(search_result[shop]['Price'])) ])\n",
    "        except:\n",
    "            table.append([shop.capitalize(), \"N/A\", \"N/A\"])\n",
    "\n",
    "t.add_rows(table)\n",
    "print(t.draw())\n"
   ]
  },
  {
   "cell_type": "code",
   "execution_count": 14,
   "metadata": {},
   "outputs": [],
   "source": [
    "from sentence_transformers import SentenceTransformer, util\n",
    "import torch\n",
    "def get_best_semantic_match(input_word, product_titles):\n",
    "    # Load pre-trained Sentence-BERT model\n",
    "    model = SentenceTransformer('all-MiniLM-L6-v2')\n",
    "    \n",
    "    # Encode the input word and product titles\n",
    "    input_embedding = model.encode(input_word, convert_to_tensor=True)\n",
    "    title_embeddings = model.encode(product_titles, convert_to_tensor=True)\n",
    "    \n",
    "    # Compute Euclidean distances\n",
    "    euclidean_distances = torch.cdist(input_embedding.unsqueeze(0), title_embeddings).squeeze(0)\n",
    "    \n",
    "    # Find the best match\n",
    "    best_match_index = euclidean_distances.argmin()\n",
    "    best_match = product_titles[best_match_index]\n",
    "    best_match_distance = euclidean_distances[best_match_index].item()\n",
    "    \n",
    "    return best_match, best_match_distance\n",
    "\n",
    "def search_product_1(search, df, tol):\n",
    "    \n",
    "    # Example usage\n",
    "    \n",
    "    product_titles = df['Title'].tolist()\n",
    "    # product_titles\n",
    "\n",
    "    best_match, best_match_distance = get_best_semantic_match(search, product_titles)\n",
    "    \n",
    "    return best_match, best_match_distance\n",
    "\n",
    "def search_all_stores_1(search_term, tol = 95):\n",
    "    return  {\n",
    "        'dream': search_product_1(search_term, dream, tol),\n",
    "        'evetech': search_product_1(search_term, evetech, tol),\n",
    "        'rebel': search_product_1(search_term, rebel, tol),\n",
    "        'takealot': search_product_1(search_term, takealot, tol),\n",
    "        'woot': search_product_1(search_term, woot, tol),\n",
    "        'progenix': search_product_1(search_term, progenix, tol),\n",
    "        'titanice': search_product_1(search_term, titanice, tol),\n",
    "    }\n",
    "\n",
    "table = [['Store', 'Item', 'Price']]\n",
    "search_result_1 = search_all_stores_1(search_term=search_term, tol=95)"
   ]
  },
  {
   "cell_type": "code",
   "execution_count": 15,
   "metadata": {},
   "outputs": [
    {
     "name": "stdout",
     "output_type": "stream",
     "text": [
      "+----------+------------------------------------------------+------------------+\n",
      "|   Shop   |                    Product                     | Similarity Score |\n",
      "+==========+================================================+==================+\n",
      "| Dream    | gigabyte geforce rtx 3080 eagle 12g gddr6x     | 0.985            |\n",
      "|          | graphics card                                  |                  |\n",
      "+----------+------------------------------------------------+------------------+\n",
      "| Evetech  | msi geforce rtx 3080 gaming x trio 10gb        | 0.922            |\n",
      "+----------+------------------------------------------------+------------------+\n",
      "| Rebel    | gigabyte aorus geforce rtx 3080 xtreme         | 0.975            |\n",
      "|          | waterforce wb 12gb gddr6x gv n3080aorusx wb    |                  |\n",
      "|          | 12gd graphics card                             |                  |\n",
      "+----------+------------------------------------------------+------------------+\n",
      "| Takealot | computer hardware ci3   8100 processor         | 1.241            |\n",
      "+----------+------------------------------------------------+------------------+\n",
      "| Woot     | gigabyte geforce rtx 3080 aorus master lhr     | 0.988            |\n",
      "|          | edition 10g gv n3080aorus m 10gd 10gb gddr6    |                  |\n",
      "|          | 320 bit pci e 4 0 desktop graphics card        |                  |\n",
      "+----------+------------------------------------------------+------------------+\n",
      "| Progenix | gigabyte aorus geforce rtx 3080 xtreme         | 0.952            |\n",
      "|          | waterforce wb 10g graphics card  10gb          |                  |\n",
      "+----------+------------------------------------------------+------------------+\n",
      "| Titanice | gigabyte geforce rtx 3080 turbo 10gb           | 0.930            |\n",
      "+----------+------------------------------------------------+------------------+\n"
     ]
    }
   ],
   "source": [
    "# Create a texttable object\n",
    "t = Texttable()\n",
    "table = [['Shop', 'Product', 'Similarity Score']]\n",
    "\n",
    "# Populate the table with data\n",
    "for shop in search_result_1:\n",
    "    if shop:\n",
    "        try:\n",
    "            product, score = search_result_1[shop]\n",
    "            table.append([shop.capitalize(), product, f\"{score:.4f}\"])\n",
    "        except:\n",
    "            table.append([shop.capitalize(), \"N/A\", \"N/A\"])\n",
    "\n",
    "# Add rows to the table\n",
    "t.add_rows(table)\n",
    "\n",
    "# Print the table\n",
    "print(t.draw())"
   ]
  }
 ],
 "metadata": {
  "kernelspec": {
   "display_name": "Python 3",
   "language": "python",
   "name": "python3"
  },
  "language_info": {
   "codemirror_mode": {
    "name": "ipython",
    "version": 3
   },
   "file_extension": ".py",
   "mimetype": "text/x-python",
   "name": "python",
   "nbconvert_exporter": "python",
   "pygments_lexer": "ipython3",
   "version": "3.10.13"
  }
 },
 "nbformat": 4,
 "nbformat_minor": 2
}
