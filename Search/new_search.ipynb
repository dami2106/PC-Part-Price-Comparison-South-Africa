{
 "cells": [
  {
   "cell_type": "code",
   "execution_count": 4,
   "metadata": {},
   "outputs": [
    {
     "name": "stdout",
     "output_type": "stream",
     "text": [
      "Requirement already satisfied: thefuzz in /home/dami/anaconda3/envs/data/lib/python3.12/site-packages (0.22.1)\n",
      "Requirement already satisfied: rapidfuzz<4.0.0,>=3.0.0 in /home/dami/anaconda3/envs/data/lib/python3.12/site-packages (from thefuzz) (3.9.3)\n",
      "Collecting Texttable\n",
      "  Downloading texttable-1.7.0-py2.py3-none-any.whl.metadata (9.8 kB)\n",
      "Downloading texttable-1.7.0-py2.py3-none-any.whl (10 kB)\n",
      "Installing collected packages: Texttable\n",
      "Successfully installed Texttable-1.7.0\n"
     ]
    }
   ],
   "source": [
    "!pip install thefuzz\n",
    "!pip install Texttable"
   ]
  },
  {
   "cell_type": "code",
   "execution_count": 5,
   "metadata": {},
   "outputs": [],
   "source": [
    "# %%\n",
    "from thefuzz import fuzz\n",
    "from thefuzz import process\n",
    "import pandas as pd \n",
    "from texttable import Texttable\n"
   ]
  },
  {
   "cell_type": "code",
   "execution_count": 8,
   "metadata": {},
   "outputs": [],
   "source": [
    "# %%\n",
    "#Read in the wootware csv with pandas \n",
    "dream = pd.read_csv('../Data/Processed/0_dreamware.csv')\n",
    "evetech = pd.read_csv('../Data/Processed/1_evetech.csv')\n",
    "rebel = pd.read_csv('../Data/Processed/2_rebeltech.csv')\n",
    "takealot = pd.read_csv('../Data/Processed/3_takealot.csv')\n",
    "woot = pd.read_csv('../Data/Processed/4_wootware.csv')\n",
    "progenix = pd.read_csv('../Data/Processed/5_progenix.csv')\n",
    "titanice = pd.read_csv('../Data/Processed/6_titanice.csv')\n"
   ]
  },
  {
   "cell_type": "code",
   "execution_count": 23,
   "metadata": {},
   "outputs": [],
   "source": [
    "# %%\n",
    "\"\"\"\n",
    "Formatting tool\n",
    "\"\"\"\n",
    "def format_title(title):\n",
    "    title = title.lower()\n",
    "    title = title.replace('-', ' ')\n",
    "    title = title.replace(',', ' ')\n",
    "    title = title.replace('.', ' ')\n",
    "    title = title.replace('(', '')\n",
    "    title = title.replace(')', '')\n",
    "    title = title.replace('[', '')\n",
    "    title = title.replace(']', '')\n",
    "    return title\n",
    "\n",
    "\n",
    "\"\"\"\n",
    "Return a dataframe with the product that best matches the search term.\n",
    "None if the product is less than tol\n",
    "\"\"\"\n",
    "def search_product(search, df, tol):\n",
    "    search = format_title(search)\n",
    "    # search_result = process.extractOne(search, df['Title'], scorer=fuzz.token_set_ratio)\n",
    "    matches = process.extract(search,  df['Title'], scorer=fuzz.token_set_ratio)\n",
    "    filtered_matches = [match for match in matches if match[1] >= tol]\n",
    "\n",
    "\n",
    "    matched_data = df[df['Title'].isin([match[0] for match in filtered_matches])]\n",
    "    sorted_data = matched_data.sort_values(by='Price', ascending=True)\n",
    "    \n",
    "    if not sorted_data.empty:\n",
    "        return sorted_data.iloc[0]\n",
    "    else:\n",
    "        return None\n",
    "\n",
    "def search_all_stores(search_term, tol = 95):\n",
    "    return  {\n",
    "        'dream': search_product(search_term, dream, tol),\n",
    "        'evetech': search_product(search_term, evetech, tol),\n",
    "        'rebel': search_product(search_term, rebel, tol),\n",
    "        'takealot': search_product(search_term, takealot, tol),\n",
    "        'woot': search_product(search_term, woot, tol),\n",
    "        'progenix': search_product(search_term, progenix, tol),\n",
    "        'titanice': search_product(search_term, titanice, tol),\n",
    "    }\n"
   ]
  },
  {
   "cell_type": "code",
   "execution_count": 46,
   "metadata": {},
   "outputs": [
    {
     "name": "stdout",
     "output_type": "stream",
     "text": [
      "+----------+-----------------------------------------------------------+-------+\n",
      "|  Store   |                           Item                            | Price |\n",
      "+==========+===========================================================+=======+\n",
      "| Dream    | N/A                                                       | N/A   |\n",
      "+----------+-----------------------------------------------------------+-------+\n",
      "| Evetech  | N/A                                                       | N/A   |\n",
      "+----------+-----------------------------------------------------------+-------+\n",
      "| Rebel    | Adata xpg lancer 32gb kit ddr5 6000 cl40 1 35v            | 2681  |\n",
      "|          | ax5u6000c4016g dclabk desktop memory                      |       |\n",
      "+----------+-----------------------------------------------------------+-------+\n",
      "| Takealot | N/A                                                       | N/A   |\n",
      "+----------+-----------------------------------------------------------+-------+\n",
      "| Woot     | Geil gosg532gb6000c38bdc polaris rgb 32gb 2x16gb ddr5     | 2524  |\n",
      "|          | 6000 cl38 1 25v intel xmp 3 0 titanium grey desktop       |       |\n",
      "|          | memory                                                    |       |\n",
      "+----------+-----------------------------------------------------------+-------+\n",
      "| Progenix | N/A                                                       | N/A   |\n",
      "+----------+-----------------------------------------------------------+-------+\n",
      "| Titanice | Adata lancer 32gb ddr5 6000 kit 2x16gb   cl40  1 35v      | 2749  |\n",
      "+----------+-----------------------------------------------------------+-------+\n"
     ]
    }
   ],
   "source": [
    "# %%\n",
    "search_term = \"32gb ddr5 6000\"\n",
    "\n",
    "search_result = search_all_stores(search_term=search_term, tol=95)\n",
    "\n",
    "table = [['Store', 'Item', 'Price']]\n",
    "t = Texttable()\n",
    "for shop in search_result:\n",
    "    if shop:\n",
    "\n",
    "        try:\n",
    "            table.append([shop.capitalize(), \n",
    "                          search_result[shop]['Title'].capitalize(), \n",
    "                          str(int(search_result[shop]['Price'])) ])\n",
    "        except:\n",
    "            table.append([shop.capitalize(), \"N/A\", \"N/A\"])\n",
    "\n",
    "t.add_rows(table)\n",
    "print(t.draw())\n"
   ]
  }
 ],
 "metadata": {
  "kernelspec": {
   "display_name": "Python 3",
   "language": "python",
   "name": "python3"
  },
  "language_info": {
   "codemirror_mode": {
    "name": "ipython",
    "version": 3
   },
   "file_extension": ".py",
   "mimetype": "text/x-python",
   "name": "python",
   "nbconvert_exporter": "python",
   "pygments_lexer": "ipython3",
   "version": "3.12.3"
  }
 },
 "nbformat": 4,
 "nbformat_minor": 2
}
