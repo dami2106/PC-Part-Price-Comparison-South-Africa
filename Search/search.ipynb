{
 "cells": [
  {
   "cell_type": "code",
   "execution_count": 13,
   "metadata": {},
   "outputs": [],
   "source": [
    "from thefuzz import fuzz\n",
    "from thefuzz import process\n",
    "import pandas as pd "
   ]
  },
  {
   "cell_type": "code",
   "execution_count": 14,
   "metadata": {},
   "outputs": [],
   "source": [
    "#Read in the wootware csv with pandas \n",
    "dream = pd.read_csv('../Data/Processed/0_dreamware.csv')\n",
    "evetech = pd.read_csv('../Data/Processed/1_evetech.csv')\n",
    "rebel = pd.read_csv('../Data/Processed/2_rebeltech.csv')\n",
    "takealot = pd.read_csv('../Data/Processed/3_takealot.csv')\n",
    "woot = pd.read_csv('../Data/Processed/4_wootware.csv')"
   ]
  },
  {
   "cell_type": "code",
   "execution_count": 15,
   "metadata": {},
   "outputs": [],
   "source": [
    "\"\"\"\n",
    "Formatting tool\n",
    "\"\"\"\n",
    "def format_title(title):\n",
    "    title = title.lower()\n",
    "    title.replace('-', ' ')\n",
    "    title.replace(',', ' ')\n",
    "    title.replace('.', ' ')\n",
    "    title.replace('(', '')\n",
    "    title.replace(')', '')\n",
    "    title.replace('[', '')\n",
    "    title.replace(']', '')\n",
    "    return title\n",
    "\n",
    "\n",
    "\"\"\"\n",
    "Return a dataframe with the product that best matches the search term.\n",
    "None if the product is less than tol\n",
    "\"\"\"\n",
    "def search_product(search, df, tol):\n",
    "    search = format_title(search)\n",
    "    search_result = process.extractOne(search, df['Title'], scorer=fuzz.token_set_ratio)\n",
    "\n",
    "    if int(search_result[1]) >= tol:\n",
    "        return df[df['Title'] == search_result[0]]\n",
    "    \n",
    "    return None\n",
    "\n",
    "def search_all_stores(search_term, tol = 0.9):\n",
    "    return  {\n",
    "        'woot': search_product(search_term, woot, tol),\n",
    "        'dream': search_product(search_term, dream, tol),\n",
    "        'rebel': search_product(search_term, rebel, tol),\n",
    "        'takealot': search_product(search_term, takealot, tol),\n",
    "        'evetech': search_product(search_term, evetech, tol),\n",
    "    }"
   ]
  },
  {
   "cell_type": "code",
   "execution_count": 19,
   "metadata": {},
   "outputs": [
    {
     "name": "stdout",
     "output_type": "stream",
     "text": [
      "woot : intel bx8071512400f core i5-12400f hexa core 2.50ghz 10nm alder lake lga1700 desktop cpu\n",
      "dream : intel core i5 12400f 2 5ghz turbo 4 4ghz 6c 12t alder lake lga1700 desktop processor\n",
      "rebel : intel core i5-12400f alder lake 6-core 2.50ghz lga1700 65w bx8071512400f desktop processor\n",
      "takealot : intel i5-12400f\n",
      "evetech : intel core i5 12400f processor\n"
     ]
    }
   ],
   "source": [
    "s = \"intel i5 12400f\"\n",
    "\n",
    "dat = search_all_stores(s, 95)\n",
    "for shop in dat:\n",
    "    try:    \n",
    "        print(shop + \" : \" + dat[shop]['Title'].values[0])\n",
    "    except:\n",
    "        print(\"None\")"
   ]
  }
 ],
 "metadata": {
  "kernelspec": {
   "display_name": "uni",
   "language": "python",
   "name": "python3"
  },
  "language_info": {
   "codemirror_mode": {
    "name": "ipython",
    "version": 3
   },
   "file_extension": ".py",
   "mimetype": "text/x-python",
   "name": "python",
   "nbconvert_exporter": "python",
   "pygments_lexer": "ipython3",
   "version": "3.12.2"
  }
 },
 "nbformat": 4,
 "nbformat_minor": 2
}
