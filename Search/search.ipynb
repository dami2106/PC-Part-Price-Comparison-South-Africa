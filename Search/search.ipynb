{
 "cells": [
  {
   "cell_type": "code",
   "execution_count": 48,
   "metadata": {},
   "outputs": [],
   "source": [
    "from thefuzz import fuzz\n",
    "from thefuzz import process\n",
    "import pandas as pd "
   ]
  },
  {
   "cell_type": "code",
   "execution_count": 49,
   "metadata": {},
   "outputs": [],
   "source": [
    "#Read in the wootware csv with pandas \n",
    "woot = pd.read_csv('../Data/wootware.csv')\n",
    "# evetech = pd.read_csv('Processed/11-12-2023_0705_evetech.csv')\n",
    "dream = pd.read_csv('../Data/dreamware.csv')\n",
    "rebel = pd.read_csv('../Data/rebeltech.csv')\n",
    "takealot = pd.read_csv('../Data/takealot.csv')"
   ]
  },
  {
   "cell_type": "code",
   "execution_count": null,
   "metadata": {},
   "outputs": [],
   "source": []
  },
  {
   "cell_type": "code",
   "execution_count": 50,
   "metadata": {},
   "outputs": [],
   "source": [
    "\"\"\"\n",
    "Formatting tool\n",
    "\"\"\"\n",
    "def format_title(title):\n",
    "    title = title.lower()\n",
    "    title.replace('-', ' ')\n",
    "    title.replace(',', ' ')\n",
    "    title.replace('.', ' ')\n",
    "    title.replace('(', '')\n",
    "    title.replace(')', '')\n",
    "    title.replace('[', '')\n",
    "    title.replace(']', '')\n",
    "    return title\n",
    "\n",
    "\n",
    "\"\"\"\n",
    "Return a dataframe with the product that best matches the search term.\n",
    "None if the product is less than tol\n",
    "\"\"\"\n",
    "def search_product(search, df, tol):\n",
    "    search = format_title(search)\n",
    "    search_result = process.extractOne(search, df['Title'], scorer=fuzz.token_set_ratio)\n",
    "\n",
    "    if int(search_result[1]) >= tol:\n",
    "        return df[df['Title'] == search_result[0]]\n",
    "    \n",
    "    return None\n",
    "\n",
    "def search_all_stores(search_term, tol = 0.9):\n",
    "    return  {\n",
    "        'woot': search_product(search_term, woot, tol),\n",
    "        'dream': search_product(search_term, dream, tol),\n",
    "        'rebel': search_product(search_term, rebel, tol),\n",
    "        'takealot': search_product(search_term, takealot, tol),\n",
    "        'evetech': None\n",
    "    }"
   ]
  },
  {
   "cell_type": "code",
   "execution_count": null,
   "metadata": {},
   "outputs": [],
   "source": []
  },
  {
   "cell_type": "code",
   "execution_count": 52,
   "metadata": {},
   "outputs": [
    {
     "name": "stdout",
     "output_type": "stream",
     "text": [
      "woot : western digital wds100t3b0c wd blue sn570 1tb m.2 (2280) nvme pci-e 3.0 solid state drive\n",
      "None\n",
      "None\n",
      "takealot : western digital 1tb wd blue sn580 nvme internal solid state drive ssd\n",
      "None\n"
     ]
    }
   ],
   "source": [
    "s = \"wd blue nvme 1tb\"\n",
    "\n",
    "dat = search_all_stores(s, 95)\n",
    "for shop in dat:\n",
    "    try:    \n",
    "        print(shop + \" : \" + dat[shop]['Title'].values[0])\n",
    "    except:\n",
    "        print(\"None\")"
   ]
  }
 ],
 "metadata": {
  "kernelspec": {
   "display_name": "uni",
   "language": "python",
   "name": "python3"
  },
  "language_info": {
   "codemirror_mode": {
    "name": "ipython",
    "version": 3
   },
   "file_extension": ".py",
   "mimetype": "text/x-python",
   "name": "python",
   "nbconvert_exporter": "python",
   "pygments_lexer": "ipython3",
   "version": "3.12.2"
  }
 },
 "nbformat": 4,
 "nbformat_minor": 2
}
