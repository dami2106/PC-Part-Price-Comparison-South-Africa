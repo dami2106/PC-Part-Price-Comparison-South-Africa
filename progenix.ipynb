{
 "cells": [
  {
   "cell_type": "code",
   "execution_count": 21,
   "metadata": {},
   "outputs": [],
   "source": [
    "from bs4 import BeautifulSoup\n",
    "import requests\n",
    "import pandas as pd\n",
    "import warnings\n",
    "import time \n",
    "from datetime import datetime\n",
    "import os\n",
    "from tqdm import tqdm\n",
    "import csv"
   ]
  },
  {
   "cell_type": "code",
   "execution_count": 1,
   "metadata": {},
   "outputs": [
    {
     "ename": "NameError",
     "evalue": "name 'os' is not defined",
     "output_type": "error",
     "traceback": [
      "\u001b[1;31m---------------------------------------------------------------------------\u001b[0m",
      "\u001b[1;31mNameError\u001b[0m                                 Traceback (most recent call last)",
      "Cell \u001b[1;32mIn[1], line 6\u001b[0m\n\u001b[0;32m      3\u001b[0m subfolder_path \u001b[38;5;241m=\u001b[39m \u001b[38;5;124mf\u001b[39m\u001b[38;5;124m'\u001b[39m\u001b[38;5;132;01m{\u001b[39;00mfolder_path\u001b[38;5;132;01m}\u001b[39;00m\u001b[38;5;124mRaw/\u001b[39m\u001b[38;5;124m'\u001b[39m\n\u001b[0;32m      5\u001b[0m \u001b[38;5;66;03m# Check if the subfolder exists, and create it if it doesn't\u001b[39;00m\n\u001b[1;32m----> 6\u001b[0m \u001b[38;5;28;01mif\u001b[39;00m \u001b[38;5;129;01mnot\u001b[39;00m \u001b[43mos\u001b[49m\u001b[38;5;241m.\u001b[39mpath\u001b[38;5;241m.\u001b[39mexists(subfolder_path):\n\u001b[0;32m      7\u001b[0m     os\u001b[38;5;241m.\u001b[39mmakedirs(subfolder_path)\n\u001b[0;32m      9\u001b[0m \u001b[38;5;66;03m# Create csv file \u001b[39;00m\n",
      "\u001b[1;31mNameError\u001b[0m: name 'os' is not defined"
     ]
    }
   ],
   "source": [
    "# Define the folder and subfolder paths\n",
    "folder_path = '../Data/'\n",
    "subfolder_path = f'{folder_path}Raw/'\n",
    "\n",
    "# Check if the subfolder exists, and create it if it doesn't\n",
    "if not os.path.exists(subfolder_path):\n",
    "    os.makedirs(subfolder_path)\n",
    "\n",
    "# Create csv file \n",
    "csv_file = open(f'{subfolder_path}5_Progen.csv', 'w', newline='', encoding='utf-8')\n",
    "csv_writer = csv.writer(csv_file)\n",
    "csv_writer.writerow(['Title','Price','In Stock','Category','URL'])\n",
    "\n",
    "# Define the URLs and catorgories\n",
    "All_links =[\n",
    "    ['https://progenix.co.za/Components/Graphics-Cards', 'GPU'],\n",
    "    ['https://progenix.co.za/Components/CPUs', 'CPU'],\n",
    "    ['https://progenix.co.za/Components/Motherboards','Motherboard'],\n",
    "    ['https://progenix.co.za/Components/RAM-Memory','RAM'],\n",
    "    ['https://progenix.co.za/Components/Storage','Storage'],\n",
    "    ['https://progenix.co.za/Components/Cooling','Cooler'],\n",
    "    ['https://progenix.co.za/Components/PSUs','PSU'],\n",
    "    ['https://progenix.co.za/Components/Computer-Cases','Chassis'],\n",
    "]\n",
    "\n",
    "# Loop through all the links\n",
    "for i in All_links:\n",
    "    # Get the URL and category\n",
    "    url = i[0]\n",
    "    category = i[1]\n",
    "    \n",
    "    # Start scraping all products under one category\n",
    "    scraping = True\n",
    "    while scraping:\n",
    "        # Get the page content\n",
    "        page_content = requests.get(url, headers={\"User-Agent\": \"Mozilla/5.0 (Windows NT 10.0; Win64; x64) AppleWebKit/537.36 (KHTML, like Gecko) Chrome/91.0.4472.124 Safari/537.36\"})\n",
    "        soup = BeautifulSoup(page_content.content, 'html.parser')\n",
    "        \n",
    "        # Get all the products on the page\n",
    "        all_product= soup.find_all('div', class_='product-thumb')\n",
    "        \n",
    "        # Loop through all the products\n",
    "        for i in all_product:\n",
    "            # Get the product name \n",
    "            product_name = i.find('div', class_='caption').find('h4').find('a').text.strip()\n",
    "\n",
    "            # Initialize the price and stock availability\n",
    "            product_price = -99\n",
    "            in_stock = False\n",
    "\n",
    "            # Check if the product is in stock\n",
    "            stock_availability = i.find('div', class_='button-group').find('button').text.strip()\n",
    "            if stock_availability == 'Add to Cart':\n",
    "                in_stock = True\n",
    "\n",
    "                # Get the price of the product and check if it is on sale or not\n",
    "                price_info = i.find('div', class_='caption').find('p', class_='price')\n",
    "                if price_info.find('span', class_='price-new') !=None:\n",
    "                    product_price = price_info.find('span', class_='price-new').text.strip().replace('R', '').replace(',', '')\n",
    "                else:\n",
    "                    product_price = price_info.text.strip().replace('R', '').replace(',', '')\n",
    "\n",
    "            # Get the product URL\n",
    "            product_url = i.find('a')['href']\n",
    "\n",
    "            # Write the information to the csv file\n",
    "            csv_writer.writerow([product_name, product_price, in_stock, category, product_url])\n",
    "            # print(title, price, in_stock, product_url)\n",
    "\n",
    "        # Check if there is another page\n",
    "        naviga = soup.find('ul', class_='pagination').find_all('li')\n",
    "        get_navig_info = naviga[-2].find('a').text.strip()\n",
    "        if get_navig_info == '>':\n",
    "            url = naviga[-2].find('a')['href']\n",
    "        else:\n",
    "            # Stop scraping if there is no more pages\n",
    "            scraping = False\n",
    "\n",
    "# Close the csv file\n",
    "csv_file.close()"
   ]
  },
  {
   "cell_type": "code",
   "execution_count": 25,
   "metadata": {},
   "outputs": [],
   "source": []
  }
 ],
 "metadata": {
  "kernelspec": {
   "display_name": "Scrapper",
   "language": "python",
   "name": "python3"
  },
  "language_info": {
   "codemirror_mode": {
    "name": "ipython",
    "version": 3
   },
   "file_extension": ".py",
   "mimetype": "text/x-python",
   "name": "python",
   "nbconvert_exporter": "python",
   "pygments_lexer": "ipython3",
   "version": "3.10.13"
  }
 },
 "nbformat": 4,
 "nbformat_minor": 2
}
