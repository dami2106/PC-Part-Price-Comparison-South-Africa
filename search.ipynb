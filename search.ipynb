{
 "cells": [
  {
   "cell_type": "code",
   "execution_count": 26,
   "metadata": {},
   "outputs": [],
   "source": [
    "from fuzzywuzzy import process\n",
    "import pandas as pd"
   ]
  },
  {
   "cell_type": "code",
   "execution_count": 27,
   "metadata": {},
   "outputs": [],
   "source": [
    "# Assuming your CSV has a column named 'product_name'\n",
    "def search_product(df, input_name):\n",
    "    results = []\n",
    "    # Use fuzzy matching to find the best match\n",
    "    choices = df['Title'].tolist()\n",
    "    best_match, score = process.extractOne(input_name, choices)\n",
    "\n",
    "    if score >= 85:  # You can adjust the threshold based on your needs\n",
    "        result = df[df['Title'] == best_match]\n",
    "        return result, score\n",
    "    else:\n",
    "        return None"
   ]
  },
  {
   "cell_type": "code",
   "execution_count": 28,
   "metadata": {},
   "outputs": [],
   "source": [
    "dream = pd.read_csv('Products/Processed/10-12-2023_2338_dreamwaretech.csv')\n",
    "woot = pd.read_csv('Products/Processed/12-12-2023_2245_wootware.csv')"
   ]
  },
  {
   "cell_type": "code",
   "execution_count": 34,
   "metadata": {},
   "outputs": [
    {
     "name": "stdout",
     "output_type": "stream",
     "text": [
      "(                                                 Title   Price  In Stock  \\\n",
      "118  gigabyte geforce rtx 4060 ti windforce oc 8gb ...  9659.0      True   \n",
      "\n",
      "    Category  \n",
      "118      GPU  , 86)\n",
      "\n",
      "(                                               Title   Price  In Stock  \\\n",
      "1  Palit GeForce RTX 3060 Dual NE63060019K9-190AD...  6249.0     False   \n",
      "\n",
      "  Category  \n",
      "1      GPU  , 86)\n"
     ]
    }
   ],
   "source": [
    "search = \"gigabyte rtx 4060\"\n",
    "search_result_dream = search_product(dream, search)\n",
    "search_result_woot = search_product(woot, search)\n",
    "print(search_result_dream)\n",
    "print()\n",
    "print(search_result_woot)"
   ]
  }
 ],
 "metadata": {
  "kernelspec": {
   "display_name": "uni",
   "language": "python",
   "name": "python3"
  },
  "language_info": {
   "codemirror_mode": {
    "name": "ipython",
    "version": 3
   },
   "file_extension": ".py",
   "mimetype": "text/x-python",
   "name": "python",
   "nbconvert_exporter": "python",
   "pygments_lexer": "ipython3",
   "version": "3.11.4"
  }
 },
 "nbformat": 4,
 "nbformat_minor": 2
}
