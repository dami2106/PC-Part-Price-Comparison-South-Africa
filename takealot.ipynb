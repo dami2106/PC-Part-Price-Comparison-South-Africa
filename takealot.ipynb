{
 "cells": [
  {
   "cell_type": "code",
   "execution_count": 17,
   "metadata": {},
   "outputs": [],
   "source": [
    "from selenium import webdriver as wd\n",
    "from selenium.webdriver.common.by import By\n",
    "from bs4 import BeautifulSoup\n",
    "import time \n",
    "from selenium.webdriver.support.ui import Select\n",
    "from datetime import datetime\n",
    "from selenium.webdriver.common.action_chains import ActionChains\n",
    "import requests\n",
    "import csv\n",
    "from selenium import webdriver\n",
    "from selenium.webdriver.chrome.options import Options\n"
   ]
  },
  {
   "cell_type": "code",
   "execution_count": 18,
   "metadata": {},
   "outputs": [],
   "source": [
    "All_links = [\n",
    "    ['https://www.takealot.com/computers/cpu-26419','CPU'],\n",
    "    ['https://www.takealot.com/computers/motherboards-26423','Motherboard'],\n",
    "    ['https://www.takealot.com/computers/power-supplies-26425','Power Supplies'],\n",
    "    ['https://www.takealot.com/computers/computer-memory-ram-26418','RAM'],\n",
    "    ['https://www.takealot.com/computers/graphics-cards-26421','Graphics Card'],\n",
    "    ['https://www.takealot.com/all?_sb=1&_r=1&qsearch=HDD&via=suggestions&_si=bc15f929dc10b77b309874df29ef4558','HDD'],\n",
    "    ['https://www.takealot.com/all?_sb=1&_r=1&qsearch=SSD&via=suggestions&_si=bc15f929dc10b77b309874df29ef4558','SSD'],\n",
    "    ['https://www.takealot.com/all?_sb=1&_r=1&qsearch=NVME&via=suggestions&_si=bc15f929dc10b77b309874df29ef4558','NVME'],\n",
    "    ['https://www.takealot.com/all?_sb=1&_r=1&qsearch=SATA&via=suggestions&_si=bc15f929dc10b77b309874df29ef4558','SATA'],\n",
    "    ['https://www.takealot.com/computers/cases-and-chassis-26416','Chasis'],\n",
    "    ['https://www.takealot.com/computers/interface-cards-26422','Interface Cards'],\n",
    "    ['https://www.takealot.com/computers/sound-cards-26426','Sound Cards'],\n",
    "    ['https://www.takealot.com/computers/optical-drives-26424','Optical Drives'],\n",
    "    ['https://www.takealot.com/computers/fans-and-cooling-26420','Fans and Cooling'],\n",
    "    ['https://www.takealot.com/computers/computer-monitors-27167','Monitor'],\n",
    "    ['https://www.takealot.com/computers/mouse-and-presentation-26412','Mouse'],\n",
    "    ['https://www.takealot.com/computers/keyboards-26410','Keyboard'],\n",
    "    ['https://www.takealot.com/computers/headsets-and-microphones-26409','Headset'],\n",
    "    ['https://www.takealot.com/computers/computer-speakers-26407','Speakers'],\n",
    "    ['https://www.takealot.com/computers/webcams-26413','Webcam'],\n",
    "    ['https://www.takealot.com/computers/mouse-pads-26404','Mouse Pad']\n",
    "]"
   ]
  },
  {
   "cell_type": "code",
   "execution_count": 19,
   "metadata": {},
   "outputs": [],
   "source": [
    "all_data = []\n",
    "\n",
    "# Set up Chrome options for headless mode and different user agent\n",
    "chrome_options = Options()\n",
    "chrome_options.add_argument('--headless')  # Enable headless mode\n",
    "chrome_options.add_argument(\"--disable-gpu\")\n",
    "chrome_options.add_argument('user-agent=AdsBot-Google')\n",
    "\n",
    "# Create a webdriver instance with the specified options\n",
    "driver = webdriver.Chrome(options=chrome_options)\n",
    "\n"
   ]
  },
  {
   "cell_type": "code",
   "execution_count": 20,
   "metadata": {},
   "outputs": [
    {
     "name": "stdout",
     "output_type": "stream",
     "text": [
      "Scraping CPU with 309 products :https://www.takealot.com/computers/cpu-26419\n",
      "Scraping Motherboard with 213 products :https://www.takealot.com/computers/motherboards-26423\n",
      "Scraping Power Supplies with 95 products :https://www.takealot.com/computers/power-supplies-26425\n",
      "Scraping RAM with 964 products :https://www.takealot.com/computers/computer-memory-ram-26418\n",
      "Scraping Graphics Card with 146 products :https://www.takealot.com/computers/graphics-cards-26421\n",
      "Scraping HDD with 1628 products :https://www.takealot.com/all?_sb=1&_r=1&qsearch=HDD&via=suggestions&_si=bc15f929dc10b77b309874df29ef4558\n",
      "Scraping SSD with 811 products :https://www.takealot.com/all?_sb=1&_r=1&qsearch=SSD&via=suggestions&_si=bc15f929dc10b77b309874df29ef4558\n",
      "Scraping NVME with 236 products :https://www.takealot.com/all?_sb=1&_r=1&qsearch=NVME&via=suggestions&_si=bc15f929dc10b77b309874df29ef4558\n",
      "Scraping SATA with 449 products :https://www.takealot.com/all?_sb=1&_r=1&qsearch=SATA&via=suggestions&_si=bc15f929dc10b77b309874df29ef4558\n",
      "Scraping Chasis with 411 products :https://www.takealot.com/computers/cases-and-chassis-26416\n",
      "Scraping Interface Cards with 475 products :https://www.takealot.com/computers/interface-cards-26422\n",
      "Scraping Sound Cards with 129 products :https://www.takealot.com/computers/sound-cards-26426\n",
      "Scraping Optical Drives with 46 products :https://www.takealot.com/computers/optical-drives-26424\n",
      "Scraping Fans and Cooling with 604 products :https://www.takealot.com/computers/fans-and-cooling-26420\n",
      "Scraping Monitor with 438 products :https://www.takealot.com/computers/computer-monitors-27167\n",
      "Scraping Mouse with 748 products :https://www.takealot.com/computers/mouse-and-presentation-26412\n",
      "Scraping Keyboard with 491 products :https://www.takealot.com/computers/keyboards-26410\n",
      "Scraping Headset with 845 products :https://www.takealot.com/computers/headsets-and-microphones-26409\n",
      "Scraping Speakers with 107 products :https://www.takealot.com/computers/computer-speakers-26407\n",
      "Scraping Webcam with 165 products :https://www.takealot.com/computers/webcams-26413\n",
      "Scraping Mouse Pad with 1233 products :https://www.takealot.com/computers/mouse-pads-26404\n"
     ]
    }
   ],
   "source": [
    "for i in All_links:\n",
    "    URL = i[0]\n",
    "    Category = i[1]\n",
    "    # Fetch the URL\n",
    "    driver.get(URL)\n",
    "\n",
    "    # Wait for the page to fully load\n",
    "    time.sleep(5)   \n",
    "    while True:\n",
    "        # Scroll down to bottom\n",
    "        driver.execute_script(\"window.scrollTo(0, document.body.scrollHeight);\")\n",
    "        time.sleep(3)\n",
    "        # Wait to load page\n",
    "        if driver.find_elements(By.XPATH, '//button[@class=\"button ghost search-listings-module_load-more_OwyvW\"]')==[]:\n",
    "            break\n",
    "        # find the load more button\n",
    "        load_more_button = driver.find_element(By.XPATH, '//button[@class=\"button ghost search-listings-module_load-more_OwyvW\"]')\n",
    "        load_more_button.click()\n",
    "        time.sleep(3)\n",
    "    \n",
    "    # Get the page source (HTML content)\n",
    "    page_source = driver.page_source\n",
    "\n",
    "    # Use BeautifulSoup to parse the HTML\n",
    "    soup = BeautifulSoup(page_source, 'html.parser')\n",
    "\n",
    "    # Find all product \n",
    "    all_product = soup.findAll('div', class_=\"product-card product-card-module_product-card_fdqa8\")\n",
    "    time.sleep(5)\n",
    "    for j in all_product:\n",
    "        price = j.find('li', class_=\"price product-card-module_price_zVU6d\").text.strip().replace('R ','').replace(',','')\n",
    "        name = j.find('h4', class_=\"product-title\").text.strip()\n",
    "        if j.find('div', class_=\"cell shrink stock-availability-status\") != None:\n",
    "            availability = j.find('div', class_=\"cell shrink stock-availability-status\").text.strip()\n",
    "        else:\n",
    "            availability = 'In Stock'\n",
    "        all_data.append([name,price,availability,Category])\n",
    "    print('Scraping '+Category+' with '+str(len(all_product))+' products :'+URL)\n",
    "driver.quit()"
   ]
  },
  {
   "cell_type": "code",
   "execution_count": 21,
   "metadata": {},
   "outputs": [],
   "source": [
    "# Write the data to csv file\n",
    "with open('takealot.csv', 'w', newline='', encoding='utf-8') as f:\n",
    "    writer = csv.writer(f)\n",
    "    writer.writerow(['Title','Price','In Stock','Category'])\n",
    "    writer.writerows(all_data)"
   ]
  },
  {
   "cell_type": "markdown",
   "metadata": {},
   "source": [
    "Scraping taking around 37 minutes"
   ]
  }
 ],
 "metadata": {
  "kernelspec": {
   "display_name": "Scrapper",
   "language": "python",
   "name": "python3"
  },
  "language_info": {
   "codemirror_mode": {
    "name": "ipython",
    "version": 3
   },
   "file_extension": ".py",
   "mimetype": "text/x-python",
   "name": "python",
   "nbconvert_exporter": "python",
   "pygments_lexer": "ipython3",
   "version": "3.10.13"
  }
 },
 "nbformat": 4,
 "nbformat_minor": 2
}
