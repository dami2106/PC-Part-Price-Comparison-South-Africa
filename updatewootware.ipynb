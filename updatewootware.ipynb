{
 "cells": [
  {
   "cell_type": "code",
   "execution_count": 56,
   "metadata": {},
   "outputs": [
    {
     "name": "stdout",
     "output_type": "stream",
     "text": [
      "Update successful. Rows affected: 1\n",
      "1\n",
      "[('gg', 2.0, 1, 'llp', 'jhht.://')]\n"
     ]
    }
   ],
   "source": [
    "# Open the database \n",
    "import sqlite3\n",
    "conn = sqlite3.connect('Data/pc_stores.db')\n",
    "c = conn.cursor()\n",
    "\n",
    "# open the  tables \n",
    "product_url = 'https://www.wootware.co.za/palit-geforce-rtx-3060-dual-ne63060019k9-190ad-12gb-gddr6-192-bit-pci-e-4-0-desktop-graphics-card.html'\n",
    "# c.execute('''SELECT * FROM wootware WHERE URL = ?''', (product_url,))\n",
    "\n",
    "# update the table\n",
    "c.execute('''INSERT INTO wootware (Title, Price, In_stock, Category, URL) VALUES (?, ?, ?, ?, ?)''', (\"gg\", 2, True, \"llp\", \"jhht.://\"))\n",
    "\n",
    "# Check the row count affected by the update\n",
    "rows_affected = c.rowcount\n",
    "\n",
    "if rows_affected > 0:\n",
    "    print(\"Update successful. Rows affected:\", rows_affected)\n",
    "else:\n",
    "    print(\"Update unsuccessful. No record found with the given URL.\")\n",
    "\n",
    "\n",
    "# commit the changes\n",
    "conn.commit()\n",
    "# product_url = 'https://www.wootware.co.za/palit-geforce-rtx-4070-super-dual-ned407s019k9-1043d-12gb-gddr6x-192-bit-pcie-4-0-desktop-graphics-card.html'\n",
    "c.execute('''SELECT * FROM wootware WHERE Category = ?''', (\"llp\",))\n",
    "records = c.fetchall()\n",
    "print(len(records))\n",
    "# Print all records\n",
    "for record in records:\n",
    "    print(records)\n",
    "\n",
    "\n",
    "\n",
    "# close the database\n",
    "c.close()"
   ]
  },
  {
   "cell_type": "code",
   "execution_count": 45,
   "metadata": {},
   "outputs": [
    {
     "name": "stdout",
     "output_type": "stream",
     "text": [
      "2\n"
     ]
    }
   ],
   "source": [
    "print(len(records))"
   ]
  },
  {
   "cell_type": "code",
   "execution_count": 16,
   "metadata": {},
   "outputs": [],
   "source": [
    "def update_category(category):\n",
    "    if category == 'Graphics Cards':\n",
    "        return 'GPU'\n",
    "    elif category == 'Processors / CPUs':\n",
    "        return 'CPU'\n",
    "    elif category == 'Memory / RAM':\n",
    "        return 'RAM'\n",
    "    elif category == 'Motherboards':\n",
    "        return 'Motherboard'\n",
    "    elif category == 'Power Supplies / PSUs':\n",
    "        return 'PSU'\n",
    "    elif category == 'Cases / Chassis':\n",
    "        return 'Chassis'\n",
    "    elif category == 'Solid State Drives / SSDs':\n",
    "        return 'Storage'\n",
    "    elif category == 'Internal Hard Drives / HDDs':\n",
    "        return 'Storage'\n",
    "    elif category == 'External Hard Drives / HDDs':\n",
    "        return 'Storage'\n",
    "    elif category == 'Fans & CPU Coolers' or category == 'Water / Liquid Cooling':\n",
    "        return 'Cooler'\n",
    "    \n",
    "def format_title(title):\n",
    "    title = title.lower()\n",
    "    title = title.replace('-', ' ')\n",
    "    title = title.replace(',', ' ')\n",
    "    title = title.replace('.', ' ')\n",
    "    title = title.replace('(', '')\n",
    "    title = title.replace(')', '')\n",
    "    title = title.replace('[', '')\n",
    "    title = title.replace(']', '')\n",
    "\n",
    "    return title"
   ]
  },
  {
   "cell_type": "code",
   "execution_count": 18,
   "metadata": {},
   "outputs": [
    {
     "data": {
      "text/plain": [
       "'palit geforce rtx 4070 super dual ned407s019k9 1043d 12gb gddr6x 192 bit pcie 4 0 desktop graphics card'"
      ]
     },
     "execution_count": 18,
     "metadata": {},
     "output_type": "execute_result"
    }
   ],
   "source": [
    "tit = \"Palit GeForce RTX 4070 SUPER Dual NED407S019K9-1043D 12GB GDDR6X 192-bit PCIe 4.0 Desktop Graphics Card\"\n",
    "format_title(tit)"
   ]
  }
 ],
 "metadata": {
  "kernelspec": {
   "display_name": "Scrapper",
   "language": "python",
   "name": "python3"
  },
  "language_info": {
   "codemirror_mode": {
    "name": "ipython",
    "version": 3
   },
   "file_extension": ".py",
   "mimetype": "text/x-python",
   "name": "python",
   "nbconvert_exporter": "python",
   "pygments_lexer": "ipython3",
   "version": "3.10.13"
  }
 },
 "nbformat": 4,
 "nbformat_minor": 2
}
